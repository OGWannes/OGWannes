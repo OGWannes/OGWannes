{
 "cells": [
  {
   "cell_type": "code",
   "execution_count": 1,
   "id": "7a32f8b9",
   "metadata": {
    "_cell_guid": "b1076dfc-b9ad-4769-8c92-a6c4dae69d19",
    "_uuid": "8f2839f25d086af736a60e9eeb907d3b93b6e0e5",
    "execution": {
     "iopub.execute_input": "2022-12-10T19:24:13.253686Z",
     "iopub.status.busy": "2022-12-10T19:24:13.253162Z",
     "iopub.status.idle": "2022-12-10T19:25:26.135841Z",
     "shell.execute_reply": "2022-12-10T19:25:26.134739Z"
    },
    "papermill": {
     "duration": 72.901392,
     "end_time": "2022-12-10T19:25:26.138489",
     "exception": false,
     "start_time": "2022-12-10T19:24:13.237097",
     "status": "completed"
    },
    "tags": []
   },
   "outputs": [],
   "source": [
    "from IPython.display import clear_output\n",
    "import os\n",
    "os.environ[\"TF_CPP_MIN_LOG_LEVEL\"] = \"2\"\n",
    "!pip install -q tensorflow==2.4.1\n",
    "clear_output()\n",
    "import numpy as np\n",
    "import pandas as pd\n",
    "import tensorflow as tf \n",
    "from tensorflow import keras\n",
    "import tensorflow_hub as hub"
   ]
  },
  {
   "cell_type": "code",
   "execution_count": 2,
   "id": "59bc2019",
   "metadata": {
    "execution": {
     "iopub.execute_input": "2022-12-10T19:25:26.153682Z",
     "iopub.status.busy": "2022-12-10T19:25:26.151993Z",
     "iopub.status.idle": "2022-12-10T19:25:26.186908Z",
     "shell.execute_reply": "2022-12-10T19:25:26.185968Z"
    },
    "papermill": {
     "duration": 0.044603,
     "end_time": "2022-12-10T19:25:26.189282",
     "exception": false,
     "start_time": "2022-12-10T19:25:26.144679",
     "status": "completed"
    },
    "tags": []
   },
   "outputs": [],
   "source": [
    "data_dir=\"../input/paddy-disease-classification/\"\n",
    "train =pd.read_csv(data_dir + \"train.csv\")\n",
    "sub =pd.read_csv(data_dir + \"sample_submission.csv\")"
   ]
  },
  {
   "cell_type": "code",
   "execution_count": 3,
   "id": "0dbeada2",
   "metadata": {
    "execution": {
     "iopub.execute_input": "2022-12-10T19:25:26.202543Z",
     "iopub.status.busy": "2022-12-10T19:25:26.202072Z",
     "iopub.status.idle": "2022-12-10T19:25:26.219689Z",
     "shell.execute_reply": "2022-12-10T19:25:26.218636Z"
    },
    "papermill": {
     "duration": 0.027047,
     "end_time": "2022-12-10T19:25:26.222263",
     "exception": false,
     "start_time": "2022-12-10T19:25:26.195216",
     "status": "completed"
    },
    "tags": []
   },
   "outputs": [
    {
     "data": {
      "text/html": [
       "<div>\n",
       "<style scoped>\n",
       "    .dataframe tbody tr th:only-of-type {\n",
       "        vertical-align: middle;\n",
       "    }\n",
       "\n",
       "    .dataframe tbody tr th {\n",
       "        vertical-align: top;\n",
       "    }\n",
       "\n",
       "    .dataframe thead th {\n",
       "        text-align: right;\n",
       "    }\n",
       "</style>\n",
       "<table border=\"1\" class=\"dataframe\">\n",
       "  <thead>\n",
       "    <tr style=\"text-align: right;\">\n",
       "      <th></th>\n",
       "      <th>image_id</th>\n",
       "      <th>label</th>\n",
       "      <th>variety</th>\n",
       "      <th>age</th>\n",
       "    </tr>\n",
       "  </thead>\n",
       "  <tbody>\n",
       "    <tr>\n",
       "      <th>0</th>\n",
       "      <td>100330.jpg</td>\n",
       "      <td>bacterial_leaf_blight</td>\n",
       "      <td>ADT45</td>\n",
       "      <td>45</td>\n",
       "    </tr>\n",
       "    <tr>\n",
       "      <th>1</th>\n",
       "      <td>100365.jpg</td>\n",
       "      <td>bacterial_leaf_blight</td>\n",
       "      <td>ADT45</td>\n",
       "      <td>45</td>\n",
       "    </tr>\n",
       "    <tr>\n",
       "      <th>2</th>\n",
       "      <td>100382.jpg</td>\n",
       "      <td>bacterial_leaf_blight</td>\n",
       "      <td>ADT45</td>\n",
       "      <td>45</td>\n",
       "    </tr>\n",
       "    <tr>\n",
       "      <th>3</th>\n",
       "      <td>100632.jpg</td>\n",
       "      <td>bacterial_leaf_blight</td>\n",
       "      <td>ADT45</td>\n",
       "      <td>45</td>\n",
       "    </tr>\n",
       "    <tr>\n",
       "      <th>4</th>\n",
       "      <td>101918.jpg</td>\n",
       "      <td>bacterial_leaf_blight</td>\n",
       "      <td>ADT45</td>\n",
       "      <td>45</td>\n",
       "    </tr>\n",
       "  </tbody>\n",
       "</table>\n",
       "</div>"
      ],
      "text/plain": [
       "     image_id                  label variety  age\n",
       "0  100330.jpg  bacterial_leaf_blight   ADT45   45\n",
       "1  100365.jpg  bacterial_leaf_blight   ADT45   45\n",
       "2  100382.jpg  bacterial_leaf_blight   ADT45   45\n",
       "3  100632.jpg  bacterial_leaf_blight   ADT45   45\n",
       "4  101918.jpg  bacterial_leaf_blight   ADT45   45"
      ]
     },
     "execution_count": 3,
     "metadata": {},
     "output_type": "execute_result"
    }
   ],
   "source": [
    "train.head()"
   ]
  },
  {
   "cell_type": "code",
   "execution_count": 4,
   "id": "87c30880",
   "metadata": {
    "execution": {
     "iopub.execute_input": "2022-12-10T19:25:26.235722Z",
     "iopub.status.busy": "2022-12-10T19:25:26.234870Z",
     "iopub.status.idle": "2022-12-10T19:25:26.248538Z",
     "shell.execute_reply": "2022-12-10T19:25:26.247540Z"
    },
    "papermill": {
     "duration": 0.022477,
     "end_time": "2022-12-10T19:25:26.250644",
     "exception": false,
     "start_time": "2022-12-10T19:25:26.228167",
     "status": "completed"
    },
    "tags": []
   },
   "outputs": [
    {
     "data": {
      "text/plain": [
       "({'bacterial_leaf_blight': 0,\n",
       "  'bacterial_leaf_streak': 1,\n",
       "  'bacterial_panicle_blight': 2,\n",
       "  'blast': 3,\n",
       "  'brown_spot': 4,\n",
       "  'dead_heart': 5,\n",
       "  'downy_mildew': 6,\n",
       "  'hispa': 7,\n",
       "  'normal': 8,\n",
       "  'tungro': 9},\n",
       " {0: 'bacterial_leaf_blight',\n",
       "  1: 'bacterial_leaf_streak',\n",
       "  2: 'bacterial_panicle_blight',\n",
       "  3: 'blast',\n",
       "  4: 'brown_spot',\n",
       "  5: 'dead_heart',\n",
       "  6: 'downy_mildew',\n",
       "  7: 'hispa',\n",
       "  8: 'normal',\n",
       "  9: 'tungro'})"
      ]
     },
     "execution_count": 4,
     "metadata": {},
     "output_type": "execute_result"
    }
   ],
   "source": [
    "classes = np.unique(train[\"label\"])\n",
    "c2id = {c:i for i,c in enumerate(classes)}\n",
    "id2c = {i:c for i,c in enumerate(classes)}\n",
    "c2id,id2c"
   ]
  },
  {
   "cell_type": "code",
   "execution_count": 5,
   "id": "f130ba03",
   "metadata": {
    "execution": {
     "iopub.execute_input": "2022-12-10T19:25:26.265104Z",
     "iopub.status.busy": "2022-12-10T19:25:26.264815Z",
     "iopub.status.idle": "2022-12-10T19:25:26.283127Z",
     "shell.execute_reply": "2022-12-10T19:25:26.282231Z"
    },
    "papermill": {
     "duration": 0.028524,
     "end_time": "2022-12-10T19:25:26.285055",
     "exception": false,
     "start_time": "2022-12-10T19:25:26.256531",
     "status": "completed"
    },
    "tags": []
   },
   "outputs": [
    {
     "data": {
      "text/html": [
       "<div>\n",
       "<style scoped>\n",
       "    .dataframe tbody tr th:only-of-type {\n",
       "        vertical-align: middle;\n",
       "    }\n",
       "\n",
       "    .dataframe tbody tr th {\n",
       "        vertical-align: top;\n",
       "    }\n",
       "\n",
       "    .dataframe thead th {\n",
       "        text-align: right;\n",
       "    }\n",
       "</style>\n",
       "<table border=\"1\" class=\"dataframe\">\n",
       "  <thead>\n",
       "    <tr style=\"text-align: right;\">\n",
       "      <th></th>\n",
       "      <th>image_id</th>\n",
       "      <th>label</th>\n",
       "      <th>variety</th>\n",
       "      <th>age</th>\n",
       "      <th>label_id</th>\n",
       "    </tr>\n",
       "  </thead>\n",
       "  <tbody>\n",
       "    <tr>\n",
       "      <th>0</th>\n",
       "      <td>100330.jpg</td>\n",
       "      <td>bacterial_leaf_blight</td>\n",
       "      <td>ADT45</td>\n",
       "      <td>45</td>\n",
       "      <td>0</td>\n",
       "    </tr>\n",
       "    <tr>\n",
       "      <th>1</th>\n",
       "      <td>100365.jpg</td>\n",
       "      <td>bacterial_leaf_blight</td>\n",
       "      <td>ADT45</td>\n",
       "      <td>45</td>\n",
       "      <td>0</td>\n",
       "    </tr>\n",
       "    <tr>\n",
       "      <th>2</th>\n",
       "      <td>100382.jpg</td>\n",
       "      <td>bacterial_leaf_blight</td>\n",
       "      <td>ADT45</td>\n",
       "      <td>45</td>\n",
       "      <td>0</td>\n",
       "    </tr>\n",
       "    <tr>\n",
       "      <th>3</th>\n",
       "      <td>100632.jpg</td>\n",
       "      <td>bacterial_leaf_blight</td>\n",
       "      <td>ADT45</td>\n",
       "      <td>45</td>\n",
       "      <td>0</td>\n",
       "    </tr>\n",
       "    <tr>\n",
       "      <th>4</th>\n",
       "      <td>101918.jpg</td>\n",
       "      <td>bacterial_leaf_blight</td>\n",
       "      <td>ADT45</td>\n",
       "      <td>45</td>\n",
       "      <td>0</td>\n",
       "    </tr>\n",
       "    <tr>\n",
       "      <th>...</th>\n",
       "      <td>...</td>\n",
       "      <td>...</td>\n",
       "      <td>...</td>\n",
       "      <td>...</td>\n",
       "      <td>...</td>\n",
       "    </tr>\n",
       "    <tr>\n",
       "      <th>10402</th>\n",
       "      <td>107607.jpg</td>\n",
       "      <td>tungro</td>\n",
       "      <td>Zonal</td>\n",
       "      <td>55</td>\n",
       "      <td>9</td>\n",
       "    </tr>\n",
       "    <tr>\n",
       "      <th>10403</th>\n",
       "      <td>107811.jpg</td>\n",
       "      <td>tungro</td>\n",
       "      <td>Zonal</td>\n",
       "      <td>55</td>\n",
       "      <td>9</td>\n",
       "    </tr>\n",
       "    <tr>\n",
       "      <th>10404</th>\n",
       "      <td>108547.jpg</td>\n",
       "      <td>tungro</td>\n",
       "      <td>Zonal</td>\n",
       "      <td>55</td>\n",
       "      <td>9</td>\n",
       "    </tr>\n",
       "    <tr>\n",
       "      <th>10405</th>\n",
       "      <td>110245.jpg</td>\n",
       "      <td>tungro</td>\n",
       "      <td>Zonal</td>\n",
       "      <td>55</td>\n",
       "      <td>9</td>\n",
       "    </tr>\n",
       "    <tr>\n",
       "      <th>10406</th>\n",
       "      <td>110381.jpg</td>\n",
       "      <td>tungro</td>\n",
       "      <td>Zonal</td>\n",
       "      <td>55</td>\n",
       "      <td>9</td>\n",
       "    </tr>\n",
       "  </tbody>\n",
       "</table>\n",
       "<p>10407 rows × 5 columns</p>\n",
       "</div>"
      ],
      "text/plain": [
       "         image_id                  label variety  age  label_id\n",
       "0      100330.jpg  bacterial_leaf_blight   ADT45   45         0\n",
       "1      100365.jpg  bacterial_leaf_blight   ADT45   45         0\n",
       "2      100382.jpg  bacterial_leaf_blight   ADT45   45         0\n",
       "3      100632.jpg  bacterial_leaf_blight   ADT45   45         0\n",
       "4      101918.jpg  bacterial_leaf_blight   ADT45   45         0\n",
       "...           ...                    ...     ...  ...       ...\n",
       "10402  107607.jpg                 tungro   Zonal   55         9\n",
       "10403  107811.jpg                 tungro   Zonal   55         9\n",
       "10404  108547.jpg                 tungro   Zonal   55         9\n",
       "10405  110245.jpg                 tungro   Zonal   55         9\n",
       "10406  110381.jpg                 tungro   Zonal   55         9\n",
       "\n",
       "[10407 rows x 5 columns]"
      ]
     },
     "execution_count": 5,
     "metadata": {},
     "output_type": "execute_result"
    }
   ],
   "source": [
    "train[\"label_id\"]=train[\"label\"].map(c2id)\n",
    "train"
   ]
  },
  {
   "cell_type": "code",
   "execution_count": 6,
   "id": "8801f0d8",
   "metadata": {
    "execution": {
     "iopub.execute_input": "2022-12-10T19:25:26.298934Z",
     "iopub.status.busy": "2022-12-10T19:25:26.298163Z",
     "iopub.status.idle": "2022-12-10T19:25:26.310526Z",
     "shell.execute_reply": "2022-12-10T19:25:26.309486Z"
    },
    "papermill": {
     "duration": 0.021365,
     "end_time": "2022-12-10T19:25:26.312521",
     "exception": false,
     "start_time": "2022-12-10T19:25:26.291156",
     "status": "completed"
    },
    "tags": []
   },
   "outputs": [
    {
     "data": {
      "text/html": [
       "<div>\n",
       "<style scoped>\n",
       "    .dataframe tbody tr th:only-of-type {\n",
       "        vertical-align: middle;\n",
       "    }\n",
       "\n",
       "    .dataframe tbody tr th {\n",
       "        vertical-align: top;\n",
       "    }\n",
       "\n",
       "    .dataframe thead th {\n",
       "        text-align: right;\n",
       "    }\n",
       "</style>\n",
       "<table border=\"1\" class=\"dataframe\">\n",
       "  <thead>\n",
       "    <tr style=\"text-align: right;\">\n",
       "      <th></th>\n",
       "      <th>image_id</th>\n",
       "      <th>label</th>\n",
       "      <th>variety</th>\n",
       "      <th>age</th>\n",
       "      <th>label_id</th>\n",
       "    </tr>\n",
       "  </thead>\n",
       "  <tbody>\n",
       "    <tr>\n",
       "      <th>9969</th>\n",
       "      <td>103798.jpg</td>\n",
       "      <td>tungro</td>\n",
       "      <td>ADT45</td>\n",
       "      <td>70</td>\n",
       "      <td>9</td>\n",
       "    </tr>\n",
       "    <tr>\n",
       "      <th>6518</th>\n",
       "      <td>108189.jpg</td>\n",
       "      <td>hispa</td>\n",
       "      <td>ADT45</td>\n",
       "      <td>68</td>\n",
       "      <td>7</td>\n",
       "    </tr>\n",
       "    <tr>\n",
       "      <th>7033</th>\n",
       "      <td>106905.jpg</td>\n",
       "      <td>hispa</td>\n",
       "      <td>AtchayaPonni</td>\n",
       "      <td>57</td>\n",
       "      <td>7</td>\n",
       "    </tr>\n",
       "    <tr>\n",
       "      <th>9910</th>\n",
       "      <td>101482.jpg</td>\n",
       "      <td>tungro</td>\n",
       "      <td>ADT45</td>\n",
       "      <td>70</td>\n",
       "      <td>9</td>\n",
       "    </tr>\n",
       "    <tr>\n",
       "      <th>2703</th>\n",
       "      <td>102745.jpg</td>\n",
       "      <td>blast</td>\n",
       "      <td>Onthanel</td>\n",
       "      <td>70</td>\n",
       "      <td>3</td>\n",
       "    </tr>\n",
       "  </tbody>\n",
       "</table>\n",
       "</div>"
      ],
      "text/plain": [
       "        image_id   label       variety  age  label_id\n",
       "9969  103798.jpg  tungro         ADT45   70         9\n",
       "6518  108189.jpg   hispa         ADT45   68         7\n",
       "7033  106905.jpg   hispa  AtchayaPonni   57         7\n",
       "9910  101482.jpg  tungro         ADT45   70         9\n",
       "2703  102745.jpg   blast      Onthanel   70         3"
      ]
     },
     "execution_count": 6,
     "metadata": {},
     "output_type": "execute_result"
    }
   ],
   "source": [
    "#Shuffle of file train.CSV\n",
    "train = train.sample(frac=1.0)\n",
    "train.head()"
   ]
  },
  {
   "cell_type": "code",
   "execution_count": 7,
   "id": "e0610276",
   "metadata": {
    "execution": {
     "iopub.execute_input": "2022-12-10T19:25:26.326709Z",
     "iopub.status.busy": "2022-12-10T19:25:26.326379Z",
     "iopub.status.idle": "2022-12-10T19:25:26.334550Z",
     "shell.execute_reply": "2022-12-10T19:25:26.333629Z"
    },
    "papermill": {
     "duration": 0.017515,
     "end_time": "2022-12-10T19:25:26.336483",
     "exception": false,
     "start_time": "2022-12-10T19:25:26.318968",
     "status": "completed"
    },
    "tags": []
   },
   "outputs": [
    {
     "data": {
      "text/plain": [
       "9969    103798.jpg\n",
       "6518    108189.jpg\n",
       "7033    106905.jpg\n",
       "9910    101482.jpg\n",
       "2703    102745.jpg\n",
       "           ...    \n",
       "8599    110349.jpg\n",
       "1474    107398.jpg\n",
       "9157    104462.jpg\n",
       "8999    108479.jpg\n",
       "956     101225.jpg\n",
       "Name: image_id, Length: 10407, dtype: object"
      ]
     },
     "execution_count": 7,
     "metadata": {},
     "output_type": "execute_result"
    }
   ],
   "source": [
    "train[\"image_id\"]"
   ]
  },
  {
   "cell_type": "code",
   "execution_count": 8,
   "id": "a7d415dc",
   "metadata": {
    "execution": {
     "iopub.execute_input": "2022-12-10T19:25:26.351004Z",
     "iopub.status.busy": "2022-12-10T19:25:26.350169Z",
     "iopub.status.idle": "2022-12-10T19:25:26.362816Z",
     "shell.execute_reply": "2022-12-10T19:25:26.361812Z"
    },
    "papermill": {
     "duration": 0.021929,
     "end_time": "2022-12-10T19:25:26.364804",
     "exception": false,
     "start_time": "2022-12-10T19:25:26.342875",
     "status": "completed"
    },
    "tags": []
   },
   "outputs": [
    {
     "data": {
      "text/plain": [
       "(9969                      train_images/tungro/103798.jpg\n",
       " 6518                       train_images/hispa/108189.jpg\n",
       " 7033                       train_images/hispa/106905.jpg\n",
       " 9910                      train_images/tungro/101482.jpg\n",
       " 2703                       train_images/blast/102745.jpg\n",
       "                               ...                       \n",
       " 8599                      train_images/normal/110349.jpg\n",
       " 1474                       train_images/blast/107398.jpg\n",
       " 9157                      train_images/normal/104462.jpg\n",
       " 8999                      train_images/normal/108479.jpg\n",
       " 956     train_images/bacterial_panicle_blight/101225.jpg\n",
       " Name: label, Length: 10407, dtype: object,\n",
       " array([9, 7, 7, ..., 8, 8, 2]))"
      ]
     },
     "execution_count": 8,
     "metadata": {},
     "output_type": "execute_result"
    }
   ],
   "source": [
    "#This is how we access to the working space (Input).\n",
    "chemins = \"train_images/\"+train[\"label\"]+\"/\"+train[\"image_id\"].values\n",
    "labels = train[\"label_id\"].values\n",
    "chemins,labels"
   ]
  },
  {
   "cell_type": "code",
   "execution_count": 9,
   "id": "551fce00",
   "metadata": {
    "execution": {
     "iopub.execute_input": "2022-12-10T19:25:26.380266Z",
     "iopub.status.busy": "2022-12-10T19:25:26.378793Z",
     "iopub.status.idle": "2022-12-10T19:25:27.279729Z",
     "shell.execute_reply": "2022-12-10T19:25:27.278597Z"
    },
    "papermill": {
     "duration": 0.910505,
     "end_time": "2022-12-10T19:25:27.281918",
     "exception": false,
     "start_time": "2022-12-10T19:25:26.371413",
     "status": "completed"
    },
    "tags": []
   },
   "outputs": [
    {
     "data": {
      "text/plain": [
       "<TensorSliceDataset shapes: ((), ()), types: (tf.string, tf.int64)>"
      ]
     },
     "execution_count": 9,
     "metadata": {},
     "output_type": "execute_result"
    }
   ],
   "source": [
    "train_ds = tf.data.Dataset.from_tensor_slices((chemins,labels))\n",
    "train_ds"
   ]
  },
  {
   "cell_type": "code",
   "execution_count": 10,
   "id": "75346a4d",
   "metadata": {
    "execution": {
     "iopub.execute_input": "2022-12-10T19:25:27.299252Z",
     "iopub.status.busy": "2022-12-10T19:25:27.298169Z",
     "iopub.status.idle": "2022-12-10T19:25:27.303330Z",
     "shell.execute_reply": "2022-12-10T19:25:27.302726Z"
    },
    "papermill": {
     "duration": 0.015831,
     "end_time": "2022-12-10T19:25:27.305210",
     "exception": false,
     "start_time": "2022-12-10T19:25:27.289379",
     "status": "completed"
    },
    "tags": []
   },
   "outputs": [],
   "source": [
    "#extract et decode l'image @JPEG \n",
    "def extract_image(chemin,label):\n",
    "    fichier = tf.io.read_file(data_dir +chemin)\n",
    "    image=tf.image.decode_jpeg(fichier,channels=3)\n",
    "    return image,label"
   ]
  },
  {
   "cell_type": "code",
   "execution_count": 11,
   "id": "3d2a3684",
   "metadata": {
    "execution": {
     "iopub.execute_input": "2022-12-10T19:25:27.321069Z",
     "iopub.status.busy": "2022-12-10T19:25:27.320793Z",
     "iopub.status.idle": "2022-12-10T19:25:27.384678Z",
     "shell.execute_reply": "2022-12-10T19:25:27.383570Z"
    },
    "papermill": {
     "duration": 0.07497,
     "end_time": "2022-12-10T19:25:27.387431",
     "exception": false,
     "start_time": "2022-12-10T19:25:27.312461",
     "status": "completed"
    },
    "tags": []
   },
   "outputs": [
    {
     "data": {
      "text/plain": [
       "<MapDataset shapes: ((None, None, 3), ()), types: (tf.uint8, tf.int64)>"
      ]
     },
     "execution_count": 11,
     "metadata": {},
     "output_type": "execute_result"
    }
   ],
   "source": [
    "train_ds =train_ds.map(extract_image)\n",
    "train_ds"
   ]
  },
  {
   "cell_type": "code",
   "execution_count": 12,
   "id": "930f8d79",
   "metadata": {
    "execution": {
     "iopub.execute_input": "2022-12-10T19:25:27.403133Z",
     "iopub.status.busy": "2022-12-10T19:25:27.402821Z",
     "iopub.status.idle": "2022-12-10T19:25:27.407803Z",
     "shell.execute_reply": "2022-12-10T19:25:27.406728Z"
    },
    "papermill": {
     "duration": 0.015512,
     "end_time": "2022-12-10T19:25:27.410261",
     "exception": false,
     "start_time": "2022-12-10T19:25:27.394749",
     "status": "completed"
    },
    "tags": []
   },
   "outputs": [],
   "source": [
    "#normalisation de tf.unit8 a tf.float32\n",
    "def normalisation(image,label):\n",
    "    image = tf.cast(image,dtype=tf.float32)/255.0\n",
    "    return image,label"
   ]
  },
  {
   "cell_type": "code",
   "execution_count": 13,
   "id": "cd0585ea",
   "metadata": {
    "execution": {
     "iopub.execute_input": "2022-12-10T19:25:27.426046Z",
     "iopub.status.busy": "2022-12-10T19:25:27.425764Z",
     "iopub.status.idle": "2022-12-10T19:25:27.470037Z",
     "shell.execute_reply": "2022-12-10T19:25:27.469098Z"
    },
    "papermill": {
     "duration": 0.054641,
     "end_time": "2022-12-10T19:25:27.472221",
     "exception": false,
     "start_time": "2022-12-10T19:25:27.417580",
     "status": "completed"
    },
    "tags": []
   },
   "outputs": [
    {
     "data": {
      "text/plain": [
       "<MapDataset shapes: ((None, None, 3), ()), types: (tf.float32, tf.int64)>"
      ]
     },
     "execution_count": 13,
     "metadata": {},
     "output_type": "execute_result"
    }
   ],
   "source": [
    "train_ds =train_ds.map(normalisation)\n",
    "train_ds"
   ]
  },
  {
   "cell_type": "code",
   "execution_count": 14,
   "id": "ac0926e1",
   "metadata": {
    "execution": {
     "iopub.execute_input": "2022-12-10T19:25:27.488100Z",
     "iopub.status.busy": "2022-12-10T19:25:27.487801Z",
     "iopub.status.idle": "2022-12-10T19:25:27.493923Z",
     "shell.execute_reply": "2022-12-10T19:25:27.492850Z"
    },
    "papermill": {
     "duration": 0.016719,
     "end_time": "2022-12-10T19:25:27.496376",
     "exception": false,
     "start_time": "2022-12-10T19:25:27.479657",
     "status": "completed"
    },
    "tags": []
   },
   "outputs": [],
   "source": [
    "def augment(image,label):\n",
    "    image = tf.image.resize(image,size=(224,224))\n",
    "    if tf.random.uniform(shape=[])<=0.5:\n",
    "        image = tf.image.rot90(image,3)\n",
    "    else:\n",
    "        image = tf.image.flip_left_right(image)\n",
    "    if tf.random.uniform(shape=[])<=0.7:\n",
    "        image = tf.image.adjust_brightness(image,0.2)\n",
    "    return image,label"
   ]
  },
  {
   "cell_type": "code",
   "execution_count": 15,
   "id": "91875009",
   "metadata": {
    "execution": {
     "iopub.execute_input": "2022-12-10T19:25:27.512521Z",
     "iopub.status.busy": "2022-12-10T19:25:27.511700Z",
     "iopub.status.idle": "2022-12-10T19:25:27.662746Z",
     "shell.execute_reply": "2022-12-10T19:25:27.660728Z"
    },
    "papermill": {
     "duration": 0.162477,
     "end_time": "2022-12-10T19:25:27.666124",
     "exception": false,
     "start_time": "2022-12-10T19:25:27.503647",
     "status": "completed"
    },
    "tags": []
   },
   "outputs": [
    {
     "data": {
      "text/plain": [
       "<MapDataset shapes: ((224, 224, 3), ()), types: (tf.float32, tf.int64)>"
      ]
     },
     "execution_count": 15,
     "metadata": {},
     "output_type": "execute_result"
    }
   ],
   "source": [
    "train_ds =train_ds.map(augment)\n",
    "train_ds"
   ]
  },
  {
   "cell_type": "code",
   "execution_count": 16,
   "id": "68650bcc",
   "metadata": {
    "execution": {
     "iopub.execute_input": "2022-12-10T19:25:27.697643Z",
     "iopub.status.busy": "2022-12-10T19:25:27.697084Z",
     "iopub.status.idle": "2022-12-10T19:25:27.707412Z",
     "shell.execute_reply": "2022-12-10T19:25:27.706436Z"
    },
    "papermill": {
     "duration": 0.024918,
     "end_time": "2022-12-10T19:25:27.710141",
     "exception": false,
     "start_time": "2022-12-10T19:25:27.685223",
     "status": "completed"
    },
    "tags": []
   },
   "outputs": [
    {
     "data": {
      "text/plain": [
       "<BatchDataset shapes: ((None, 224, 224, 3), (None,)), types: (tf.float32, tf.int64)>"
      ]
     },
     "execution_count": 16,
     "metadata": {},
     "output_type": "execute_result"
    }
   ],
   "source": [
    "train_ds =train_ds.batch(32)\n",
    "train_ds"
   ]
  },
  {
   "cell_type": "code",
   "execution_count": 17,
   "id": "6ea89d90",
   "metadata": {
    "execution": {
     "iopub.execute_input": "2022-12-10T19:25:27.725849Z",
     "iopub.status.busy": "2022-12-10T19:25:27.725547Z",
     "iopub.status.idle": "2022-12-10T19:25:31.216241Z",
     "shell.execute_reply": "2022-12-10T19:25:31.215269Z"
    },
    "papermill": {
     "duration": 3.501252,
     "end_time": "2022-12-10T19:25:31.218707",
     "exception": false,
     "start_time": "2022-12-10T19:25:27.717455",
     "status": "completed"
    },
    "tags": []
   },
   "outputs": [],
   "source": [
    "model=keras.Sequential()\n",
    "model.add(hub.KerasLayer(\"https://tfhub.dev/google/cropnet/feature_vector/concat/1\", trainable=True , arguments=dict(batch_norm_momentum=0.997)))\n",
    "model.add(keras.layers.Dense(10,activation=\"softmax\"))"
   ]
  },
  {
   "cell_type": "code",
   "execution_count": 18,
   "id": "e84f4bb3",
   "metadata": {
    "execution": {
     "iopub.execute_input": "2022-12-10T19:25:31.235775Z",
     "iopub.status.busy": "2022-12-10T19:25:31.234066Z",
     "iopub.status.idle": "2022-12-10T19:25:31.239577Z",
     "shell.execute_reply": "2022-12-10T19:25:31.238632Z"
    },
    "papermill": {
     "duration": 0.015553,
     "end_time": "2022-12-10T19:25:31.241550",
     "exception": false,
     "start_time": "2022-12-10T19:25:31.225997",
     "status": "completed"
    },
    "tags": []
   },
   "outputs": [],
   "source": [
    "opt = tf.keras.optimizers.SGD(learning_rate=0.01)"
   ]
  },
  {
   "cell_type": "code",
   "execution_count": 19,
   "id": "700826d9",
   "metadata": {
    "execution": {
     "iopub.execute_input": "2022-12-10T19:25:31.256485Z",
     "iopub.status.busy": "2022-12-10T19:25:31.256187Z",
     "iopub.status.idle": "2022-12-10T19:25:31.269575Z",
     "shell.execute_reply": "2022-12-10T19:25:31.268731Z"
    },
    "papermill": {
     "duration": 0.023085,
     "end_time": "2022-12-10T19:25:31.271585",
     "exception": false,
     "start_time": "2022-12-10T19:25:31.248500",
     "status": "completed"
    },
    "tags": []
   },
   "outputs": [],
   "source": [
    "model.compile(optimizer=opt,loss=\"sparse_categorical_crossentropy\",metrics=[\"accuracy\"])"
   ]
  },
  {
   "cell_type": "code",
   "execution_count": 20,
   "id": "f483f3a7",
   "metadata": {
    "execution": {
     "iopub.execute_input": "2022-12-10T19:25:31.287259Z",
     "iopub.status.busy": "2022-12-10T19:25:31.286448Z",
     "iopub.status.idle": "2022-12-10T19:49:43.547489Z",
     "shell.execute_reply": "2022-12-10T19:49:43.546269Z"
    },
    "papermill": {
     "duration": 1452.271103,
     "end_time": "2022-12-10T19:49:43.549662",
     "exception": false,
     "start_time": "2022-12-10T19:25:31.278559",
     "status": "completed"
    },
    "tags": []
   },
   "outputs": [
    {
     "name": "stdout",
     "output_type": "stream",
     "text": [
      "Epoch 1/15\n",
      "326/326 [==============================] - 142s 384ms/step - loss: 1.6148 - accuracy: 0.4449\n",
      "Epoch 2/15\n",
      "326/326 [==============================] - 94s 287ms/step - loss: 0.6150 - accuracy: 0.7996\n",
      "Epoch 3/15\n",
      "326/326 [==============================] - 94s 287ms/step - loss: 0.3566 - accuracy: 0.8842\n",
      "Epoch 4/15\n",
      "326/326 [==============================] - 93s 284ms/step - loss: 0.2363 - accuracy: 0.9277\n",
      "Epoch 5/15\n",
      "326/326 [==============================] - 94s 287ms/step - loss: 0.1659 - accuracy: 0.9523\n",
      "Epoch 6/15\n",
      "326/326 [==============================] - 93s 287ms/step - loss: 0.1122 - accuracy: 0.9683\n",
      "Epoch 7/15\n",
      "326/326 [==============================] - 94s 289ms/step - loss: 0.0807 - accuracy: 0.9809\n",
      "Epoch 8/15\n",
      "326/326 [==============================] - 94s 289ms/step - loss: 0.0628 - accuracy: 0.9852\n",
      "Epoch 9/15\n",
      "326/326 [==============================] - 94s 288ms/step - loss: 0.0426 - accuracy: 0.9928\n",
      "Epoch 10/15\n",
      "326/326 [==============================] - 94s 286ms/step - loss: 0.0306 - accuracy: 0.9952\n",
      "Epoch 11/15\n",
      "326/326 [==============================] - 94s 289ms/step - loss: 0.0238 - accuracy: 0.9970\n",
      "Epoch 12/15\n",
      "326/326 [==============================] - 94s 288ms/step - loss: 0.0198 - accuracy: 0.9975\n",
      "Epoch 13/15\n",
      "326/326 [==============================] - 93s 284ms/step - loss: 0.0166 - accuracy: 0.9983\n",
      "Epoch 14/15\n",
      "326/326 [==============================] - 93s 284ms/step - loss: 0.0149 - accuracy: 0.9979\n",
      "Epoch 15/15\n",
      "326/326 [==============================] - 93s 284ms/step - loss: 0.0113 - accuracy: 0.9997\n"
     ]
    },
    {
     "data": {
      "text/plain": [
       "<tensorflow.python.keras.callbacks.History at 0x7f87eb76d090>"
      ]
     },
     "execution_count": 20,
     "metadata": {},
     "output_type": "execute_result"
    }
   ],
   "source": [
    "model.fit(train_ds,epochs=15)"
   ]
  },
  {
   "cell_type": "code",
   "execution_count": 21,
   "id": "d47c9644",
   "metadata": {
    "execution": {
     "iopub.execute_input": "2022-12-10T19:49:44.333826Z",
     "iopub.status.busy": "2022-12-10T19:49:44.333447Z",
     "iopub.status.idle": "2022-12-10T19:49:44.343357Z",
     "shell.execute_reply": "2022-12-10T19:49:44.342413Z"
    },
    "papermill": {
     "duration": 0.471468,
     "end_time": "2022-12-10T19:49:44.345327",
     "exception": false,
     "start_time": "2022-12-10T19:49:43.873859",
     "status": "completed"
    },
    "tags": []
   },
   "outputs": [
    {
     "data": {
      "text/plain": [
       "(array(['test_images/200001.jpg', 'test_images/200002.jpg',\n",
       "        'test_images/200003.jpg', ..., 'test_images/203467.jpg',\n",
       "        'test_images/203468.jpg', 'test_images/203469.jpg'], dtype=object),\n",
       " array([-1, -1, -1, ..., -1, -1, -1]))"
      ]
     },
     "execution_count": 21,
     "metadata": {},
     "output_type": "execute_result"
    }
   ],
   "source": [
    "test_chemins = \"test_images/\"+sub[\"image_id\"].values\n",
    "test_labels = np.full(len(test_chemins),fill_value=-1)\n",
    "test_chemins,test_labels"
   ]
  },
  {
   "cell_type": "code",
   "execution_count": 22,
   "id": "96ff8833",
   "metadata": {
    "execution": {
     "iopub.execute_input": "2022-12-10T19:49:44.849196Z",
     "iopub.status.busy": "2022-12-10T19:49:44.848220Z",
     "iopub.status.idle": "2022-12-10T19:49:44.857056Z",
     "shell.execute_reply": "2022-12-10T19:49:44.856012Z"
    },
    "papermill": {
     "duration": 0.264335,
     "end_time": "2022-12-10T19:49:44.859142",
     "exception": false,
     "start_time": "2022-12-10T19:49:44.594807",
     "status": "completed"
    },
    "tags": []
   },
   "outputs": [
    {
     "data": {
      "text/plain": [
       "<TensorSliceDataset shapes: ((), ()), types: (tf.string, tf.int64)>"
      ]
     },
     "execution_count": 22,
     "metadata": {},
     "output_type": "execute_result"
    }
   ],
   "source": [
    "test_ds =tf.data.Dataset.from_tensor_slices((test_chemins,test_labels))\n",
    "test_ds"
   ]
  },
  {
   "cell_type": "code",
   "execution_count": 23,
   "id": "47f4dd6f",
   "metadata": {
    "execution": {
     "iopub.execute_input": "2022-12-10T19:49:45.364483Z",
     "iopub.status.busy": "2022-12-10T19:49:45.363832Z",
     "iopub.status.idle": "2022-12-10T19:49:45.369035Z",
     "shell.execute_reply": "2022-12-10T19:49:45.367998Z"
    },
    "papermill": {
     "duration": 0.259522,
     "end_time": "2022-12-10T19:49:45.371283",
     "exception": false,
     "start_time": "2022-12-10T19:49:45.111761",
     "status": "completed"
    },
    "tags": []
   },
   "outputs": [],
   "source": [
    "def augment2(image,label):\n",
    "    image = tf.image.resize(image,size=(224,224))\n",
    "    return image,label"
   ]
  },
  {
   "cell_type": "code",
   "execution_count": 24,
   "id": "2e0d7757",
   "metadata": {
    "execution": {
     "iopub.execute_input": "2022-12-10T19:49:45.916536Z",
     "iopub.status.busy": "2022-12-10T19:49:45.915938Z",
     "iopub.status.idle": "2022-12-10T19:49:45.989590Z",
     "shell.execute_reply": "2022-12-10T19:49:45.988721Z"
    },
    "papermill": {
     "duration": 0.327781,
     "end_time": "2022-12-10T19:49:45.991605",
     "exception": false,
     "start_time": "2022-12-10T19:49:45.663824",
     "status": "completed"
    },
    "tags": []
   },
   "outputs": [
    {
     "data": {
      "text/plain": [
       "<BatchDataset shapes: ((None, 224, 224, 3), (None,)), types: (tf.float32, tf.int64)>"
      ]
     },
     "execution_count": 24,
     "metadata": {},
     "output_type": "execute_result"
    }
   ],
   "source": [
    "test_ds = test_ds.map(extract_image).map(normalisation).map(augment2).batch(32)\n",
    "test_ds"
   ]
  },
  {
   "cell_type": "code",
   "execution_count": 25,
   "id": "7810ee1e",
   "metadata": {
    "execution": {
     "iopub.execute_input": "2022-12-10T19:49:46.502954Z",
     "iopub.status.busy": "2022-12-10T19:49:46.502270Z",
     "iopub.status.idle": "2022-12-10T19:50:18.130528Z",
     "shell.execute_reply": "2022-12-10T19:50:18.129161Z"
    },
    "papermill": {
     "duration": 31.885174,
     "end_time": "2022-12-10T19:50:18.133042",
     "exception": false,
     "start_time": "2022-12-10T19:49:46.247868",
     "status": "completed"
    },
    "tags": []
   },
   "outputs": [],
   "source": [
    "predictions = model.predict(test_ds)"
   ]
  },
  {
   "cell_type": "code",
   "execution_count": 26,
   "id": "39d0e339",
   "metadata": {
    "execution": {
     "iopub.execute_input": "2022-12-10T19:50:18.638823Z",
     "iopub.status.busy": "2022-12-10T19:50:18.637793Z",
     "iopub.status.idle": "2022-12-10T19:50:18.645864Z",
     "shell.execute_reply": "2022-12-10T19:50:18.644853Z"
    },
    "papermill": {
     "duration": 0.260722,
     "end_time": "2022-12-10T19:50:18.647900",
     "exception": false,
     "start_time": "2022-12-10T19:50:18.387178",
     "status": "completed"
    },
    "tags": []
   },
   "outputs": [
    {
     "data": {
      "text/plain": [
       "array([[5.9513568e-06, 5.2343626e-08, 6.4242656e-09, ..., 9.9994516e-01,\n",
       "        3.2004159e-06, 4.2822335e-06],\n",
       "       [6.6336779e-06, 4.7633950e-08, 4.9299587e-09, ..., 2.5546113e-05,\n",
       "        9.9996006e-01, 7.3666038e-06],\n",
       "       [5.4613804e-04, 8.6838270e-05, 5.4141656e-05, ..., 1.4284231e-01,\n",
       "        9.9692672e-02, 5.5870260e-05],\n",
       "       ...,\n",
       "       [6.4335444e-09, 8.3180340e-10, 8.6402809e-11, ..., 4.9154791e-09,\n",
       "        9.9999988e-01, 7.0759043e-08],\n",
       "       [1.0859029e-05, 9.6955472e-01, 2.5865134e-05, ..., 7.1131131e-03,\n",
       "        9.6494932e-06, 3.7445792e-04],\n",
       "       [9.0838332e-09, 3.2746772e-09, 3.4046323e-05, ..., 4.6707496e-06,\n",
       "        7.6092401e-06, 7.3331495e-07]], dtype=float32)"
      ]
     },
     "execution_count": 26,
     "metadata": {},
     "output_type": "execute_result"
    }
   ],
   "source": [
    "predictions"
   ]
  },
  {
   "cell_type": "code",
   "execution_count": 27,
   "id": "3871ef9a",
   "metadata": {
    "execution": {
     "iopub.execute_input": "2022-12-10T19:50:19.195000Z",
     "iopub.status.busy": "2022-12-10T19:50:19.194646Z",
     "iopub.status.idle": "2022-12-10T19:50:19.213093Z",
     "shell.execute_reply": "2022-12-10T19:50:19.212105Z"
    },
    "papermill": {
     "duration": 0.270982,
     "end_time": "2022-12-10T19:50:19.215247",
     "exception": false,
     "start_time": "2022-12-10T19:50:18.944265",
     "status": "completed"
    },
    "tags": []
   },
   "outputs": [
    {
     "data": {
      "text/html": [
       "<div>\n",
       "<style scoped>\n",
       "    .dataframe tbody tr th:only-of-type {\n",
       "        vertical-align: middle;\n",
       "    }\n",
       "\n",
       "    .dataframe tbody tr th {\n",
       "        vertical-align: top;\n",
       "    }\n",
       "\n",
       "    .dataframe thead th {\n",
       "        text-align: right;\n",
       "    }\n",
       "</style>\n",
       "<table border=\"1\" class=\"dataframe\">\n",
       "  <thead>\n",
       "    <tr style=\"text-align: right;\">\n",
       "      <th></th>\n",
       "      <th>image_id</th>\n",
       "      <th>label</th>\n",
       "      <th>label_id</th>\n",
       "    </tr>\n",
       "  </thead>\n",
       "  <tbody>\n",
       "    <tr>\n",
       "      <th>0</th>\n",
       "      <td>200001.jpg</td>\n",
       "      <td>hispa</td>\n",
       "      <td>7</td>\n",
       "    </tr>\n",
       "    <tr>\n",
       "      <th>1</th>\n",
       "      <td>200002.jpg</td>\n",
       "      <td>normal</td>\n",
       "      <td>8</td>\n",
       "    </tr>\n",
       "    <tr>\n",
       "      <th>2</th>\n",
       "      <td>200003.jpg</td>\n",
       "      <td>blast</td>\n",
       "      <td>3</td>\n",
       "    </tr>\n",
       "    <tr>\n",
       "      <th>3</th>\n",
       "      <td>200004.jpg</td>\n",
       "      <td>blast</td>\n",
       "      <td>3</td>\n",
       "    </tr>\n",
       "    <tr>\n",
       "      <th>4</th>\n",
       "      <td>200005.jpg</td>\n",
       "      <td>blast</td>\n",
       "      <td>3</td>\n",
       "    </tr>\n",
       "    <tr>\n",
       "      <th>...</th>\n",
       "      <td>...</td>\n",
       "      <td>...</td>\n",
       "      <td>...</td>\n",
       "    </tr>\n",
       "    <tr>\n",
       "      <th>3464</th>\n",
       "      <td>203465.jpg</td>\n",
       "      <td>dead_heart</td>\n",
       "      <td>5</td>\n",
       "    </tr>\n",
       "    <tr>\n",
       "      <th>3465</th>\n",
       "      <td>203466.jpg</td>\n",
       "      <td>hispa</td>\n",
       "      <td>7</td>\n",
       "    </tr>\n",
       "    <tr>\n",
       "      <th>3466</th>\n",
       "      <td>203467.jpg</td>\n",
       "      <td>normal</td>\n",
       "      <td>8</td>\n",
       "    </tr>\n",
       "    <tr>\n",
       "      <th>3467</th>\n",
       "      <td>203468.jpg</td>\n",
       "      <td>bacterial_leaf_streak</td>\n",
       "      <td>1</td>\n",
       "    </tr>\n",
       "    <tr>\n",
       "      <th>3468</th>\n",
       "      <td>203469.jpg</td>\n",
       "      <td>dead_heart</td>\n",
       "      <td>5</td>\n",
       "    </tr>\n",
       "  </tbody>\n",
       "</table>\n",
       "<p>3469 rows × 3 columns</p>\n",
       "</div>"
      ],
      "text/plain": [
       "        image_id                  label  label_id\n",
       "0     200001.jpg                  hispa         7\n",
       "1     200002.jpg                 normal         8\n",
       "2     200003.jpg                  blast         3\n",
       "3     200004.jpg                  blast         3\n",
       "4     200005.jpg                  blast         3\n",
       "...          ...                    ...       ...\n",
       "3464  203465.jpg             dead_heart         5\n",
       "3465  203466.jpg                  hispa         7\n",
       "3466  203467.jpg                 normal         8\n",
       "3467  203468.jpg  bacterial_leaf_streak         1\n",
       "3468  203469.jpg             dead_heart         5\n",
       "\n",
       "[3469 rows x 3 columns]"
      ]
     },
     "execution_count": 27,
     "metadata": {},
     "output_type": "execute_result"
    }
   ],
   "source": [
    "sub[\"label_id\"]=predictions.argmax(axis=1)\n",
    "sub[\"label\"]=sub[\"label_id\"].map(id2c)\n",
    "sub"
   ]
  },
  {
   "cell_type": "code",
   "execution_count": 28,
   "id": "c41cf1e6",
   "metadata": {
    "execution": {
     "iopub.execute_input": "2022-12-10T19:50:19.729241Z",
     "iopub.status.busy": "2022-12-10T19:50:19.728876Z",
     "iopub.status.idle": "2022-12-10T19:50:19.741512Z",
     "shell.execute_reply": "2022-12-10T19:50:19.740544Z"
    },
    "papermill": {
     "duration": 0.278166,
     "end_time": "2022-12-10T19:50:19.743573",
     "exception": false,
     "start_time": "2022-12-10T19:50:19.465407",
     "status": "completed"
    },
    "tags": []
   },
   "outputs": [
    {
     "data": {
      "text/html": [
       "<div>\n",
       "<style scoped>\n",
       "    .dataframe tbody tr th:only-of-type {\n",
       "        vertical-align: middle;\n",
       "    }\n",
       "\n",
       "    .dataframe tbody tr th {\n",
       "        vertical-align: top;\n",
       "    }\n",
       "\n",
       "    .dataframe thead th {\n",
       "        text-align: right;\n",
       "    }\n",
       "</style>\n",
       "<table border=\"1\" class=\"dataframe\">\n",
       "  <thead>\n",
       "    <tr style=\"text-align: right;\">\n",
       "      <th></th>\n",
       "      <th>image_id</th>\n",
       "      <th>label</th>\n",
       "    </tr>\n",
       "  </thead>\n",
       "  <tbody>\n",
       "    <tr>\n",
       "      <th>0</th>\n",
       "      <td>200001.jpg</td>\n",
       "      <td>hispa</td>\n",
       "    </tr>\n",
       "    <tr>\n",
       "      <th>1</th>\n",
       "      <td>200002.jpg</td>\n",
       "      <td>normal</td>\n",
       "    </tr>\n",
       "    <tr>\n",
       "      <th>2</th>\n",
       "      <td>200003.jpg</td>\n",
       "      <td>blast</td>\n",
       "    </tr>\n",
       "    <tr>\n",
       "      <th>3</th>\n",
       "      <td>200004.jpg</td>\n",
       "      <td>blast</td>\n",
       "    </tr>\n",
       "    <tr>\n",
       "      <th>4</th>\n",
       "      <td>200005.jpg</td>\n",
       "      <td>blast</td>\n",
       "    </tr>\n",
       "    <tr>\n",
       "      <th>...</th>\n",
       "      <td>...</td>\n",
       "      <td>...</td>\n",
       "    </tr>\n",
       "    <tr>\n",
       "      <th>3464</th>\n",
       "      <td>203465.jpg</td>\n",
       "      <td>dead_heart</td>\n",
       "    </tr>\n",
       "    <tr>\n",
       "      <th>3465</th>\n",
       "      <td>203466.jpg</td>\n",
       "      <td>hispa</td>\n",
       "    </tr>\n",
       "    <tr>\n",
       "      <th>3466</th>\n",
       "      <td>203467.jpg</td>\n",
       "      <td>normal</td>\n",
       "    </tr>\n",
       "    <tr>\n",
       "      <th>3467</th>\n",
       "      <td>203468.jpg</td>\n",
       "      <td>bacterial_leaf_streak</td>\n",
       "    </tr>\n",
       "    <tr>\n",
       "      <th>3468</th>\n",
       "      <td>203469.jpg</td>\n",
       "      <td>dead_heart</td>\n",
       "    </tr>\n",
       "  </tbody>\n",
       "</table>\n",
       "<p>3469 rows × 2 columns</p>\n",
       "</div>"
      ],
      "text/plain": [
       "        image_id                  label\n",
       "0     200001.jpg                  hispa\n",
       "1     200002.jpg                 normal\n",
       "2     200003.jpg                  blast\n",
       "3     200004.jpg                  blast\n",
       "4     200005.jpg                  blast\n",
       "...          ...                    ...\n",
       "3464  203465.jpg             dead_heart\n",
       "3465  203466.jpg                  hispa\n",
       "3466  203467.jpg                 normal\n",
       "3467  203468.jpg  bacterial_leaf_streak\n",
       "3468  203469.jpg             dead_heart\n",
       "\n",
       "[3469 rows x 2 columns]"
      ]
     },
     "execution_count": 28,
     "metadata": {},
     "output_type": "execute_result"
    }
   ],
   "source": [
    "test_sub=sub[[\"image_id\",\"label\"]]\n",
    "test_sub"
   ]
  },
  {
   "cell_type": "code",
   "execution_count": 29,
   "id": "0d4fcd46",
   "metadata": {
    "execution": {
     "iopub.execute_input": "2022-12-10T19:50:20.293837Z",
     "iopub.status.busy": "2022-12-10T19:50:20.293491Z",
     "iopub.status.idle": "2022-12-10T19:50:20.305463Z",
     "shell.execute_reply": "2022-12-10T19:50:20.304614Z"
    },
    "papermill": {
     "duration": 0.266452,
     "end_time": "2022-12-10T19:50:20.307457",
     "exception": false,
     "start_time": "2022-12-10T19:50:20.041005",
     "status": "completed"
    },
    "tags": []
   },
   "outputs": [],
   "source": [
    "test_sub.to_csv(\"sub43.csv\",index=False)"
   ]
  }
 ],
 "metadata": {
  "kernelspec": {
   "display_name": "Python 3",
   "language": "python",
   "name": "python3"
  },
  "language_info": {
   "codemirror_mode": {
    "name": "ipython",
    "version": 3
   },
   "file_extension": ".py",
   "mimetype": "text/x-python",
   "name": "python",
   "nbconvert_exporter": "python",
   "pygments_lexer": "ipython3",
   "version": "3.7.12"
  },
  "papermill": {
   "default_parameters": {},
   "duration": 1578.912383,
   "end_time": "2022-12-10T19:50:24.164536",
   "environment_variables": {},
   "exception": null,
   "input_path": "__notebook__.ipynb",
   "output_path": "__notebook__.ipynb",
   "parameters": {},
   "start_time": "2022-12-10T19:24:05.252153",
   "version": "2.3.4"
  }
 },
 "nbformat": 4,
 "nbformat_minor": 5
}
