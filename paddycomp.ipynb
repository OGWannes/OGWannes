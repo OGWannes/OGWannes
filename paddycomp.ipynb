{
 "cells": [
  {
   "cell_type": "code",
   "execution_count": 1,
   "id": "ccf4b1c1",
   "metadata": {
    "_cell_guid": "b1076dfc-b9ad-4769-8c92-a6c4dae69d19",
    "_uuid": "8f2839f25d086af736a60e9eeb907d3b93b6e0e5",
    "execution": {
     "iopub.execute_input": "2022-12-13T13:20:25.247028Z",
     "iopub.status.busy": "2022-12-13T13:20:25.246168Z",
     "iopub.status.idle": "2022-12-13T13:21:37.044603Z",
     "shell.execute_reply": "2022-12-13T13:21:37.043638Z"
    },
    "papermill": {
     "duration": 71.809939,
     "end_time": "2022-12-13T13:21:37.047112",
     "exception": false,
     "start_time": "2022-12-13T13:20:25.237173",
     "status": "completed"
    },
    "tags": []
   },
   "outputs": [],
   "source": [
    "from IPython.display import clear_output\n",
    "import os\n",
    "os.environ[\"TF_CPP_MIN_LOG_LEVEL\"] = \"2\"\n",
    "!pip install -q tensorflow==2.4.1\n",
    "clear_output()\n",
    "import numpy as np\n",
    "import pandas as pd\n",
    "import tensorflow as tf \n",
    "from tensorflow import keras\n",
    "import tensorflow_hub as hub"
   ]
  },
  {
   "cell_type": "code",
   "execution_count": 2,
   "id": "8afc9834",
   "metadata": {
    "execution": {
     "iopub.execute_input": "2022-12-13T13:21:37.061215Z",
     "iopub.status.busy": "2022-12-13T13:21:37.060363Z",
     "iopub.status.idle": "2022-12-13T13:21:37.098228Z",
     "shell.execute_reply": "2022-12-13T13:21:37.097414Z"
    },
    "papermill": {
     "duration": 0.046757,
     "end_time": "2022-12-13T13:21:37.100100",
     "exception": false,
     "start_time": "2022-12-13T13:21:37.053343",
     "status": "completed"
    },
    "tags": []
   },
   "outputs": [],
   "source": [
    "data_dir=\"../input/paddy-disease-classification/\"\n",
    "train =pd.read_csv(data_dir + \"train.csv\")\n",
    "sub =pd.read_csv(data_dir + \"sample_submission.csv\")"
   ]
  },
  {
   "cell_type": "code",
   "execution_count": 3,
   "id": "de041d1a",
   "metadata": {
    "execution": {
     "iopub.execute_input": "2022-12-13T13:21:37.129664Z",
     "iopub.status.busy": "2022-12-13T13:21:37.127614Z",
     "iopub.status.idle": "2022-12-13T13:21:37.155498Z",
     "shell.execute_reply": "2022-12-13T13:21:37.154589Z"
    },
    "papermill": {
     "duration": 0.046408,
     "end_time": "2022-12-13T13:21:37.157984",
     "exception": false,
     "start_time": "2022-12-13T13:21:37.111576",
     "status": "completed"
    },
    "tags": []
   },
   "outputs": [
    {
     "data": {
      "text/html": [
       "<div>\n",
       "<style scoped>\n",
       "    .dataframe tbody tr th:only-of-type {\n",
       "        vertical-align: middle;\n",
       "    }\n",
       "\n",
       "    .dataframe tbody tr th {\n",
       "        vertical-align: top;\n",
       "    }\n",
       "\n",
       "    .dataframe thead th {\n",
       "        text-align: right;\n",
       "    }\n",
       "</style>\n",
       "<table border=\"1\" class=\"dataframe\">\n",
       "  <thead>\n",
       "    <tr style=\"text-align: right;\">\n",
       "      <th></th>\n",
       "      <th>image_id</th>\n",
       "      <th>label</th>\n",
       "      <th>variety</th>\n",
       "      <th>age</th>\n",
       "    </tr>\n",
       "  </thead>\n",
       "  <tbody>\n",
       "    <tr>\n",
       "      <th>0</th>\n",
       "      <td>100330.jpg</td>\n",
       "      <td>bacterial_leaf_blight</td>\n",
       "      <td>ADT45</td>\n",
       "      <td>45</td>\n",
       "    </tr>\n",
       "    <tr>\n",
       "      <th>1</th>\n",
       "      <td>100365.jpg</td>\n",
       "      <td>bacterial_leaf_blight</td>\n",
       "      <td>ADT45</td>\n",
       "      <td>45</td>\n",
       "    </tr>\n",
       "    <tr>\n",
       "      <th>2</th>\n",
       "      <td>100382.jpg</td>\n",
       "      <td>bacterial_leaf_blight</td>\n",
       "      <td>ADT45</td>\n",
       "      <td>45</td>\n",
       "    </tr>\n",
       "    <tr>\n",
       "      <th>3</th>\n",
       "      <td>100632.jpg</td>\n",
       "      <td>bacterial_leaf_blight</td>\n",
       "      <td>ADT45</td>\n",
       "      <td>45</td>\n",
       "    </tr>\n",
       "    <tr>\n",
       "      <th>4</th>\n",
       "      <td>101918.jpg</td>\n",
       "      <td>bacterial_leaf_blight</td>\n",
       "      <td>ADT45</td>\n",
       "      <td>45</td>\n",
       "    </tr>\n",
       "  </tbody>\n",
       "</table>\n",
       "</div>"
      ],
      "text/plain": [
       "     image_id                  label variety  age\n",
       "0  100330.jpg  bacterial_leaf_blight   ADT45   45\n",
       "1  100365.jpg  bacterial_leaf_blight   ADT45   45\n",
       "2  100382.jpg  bacterial_leaf_blight   ADT45   45\n",
       "3  100632.jpg  bacterial_leaf_blight   ADT45   45\n",
       "4  101918.jpg  bacterial_leaf_blight   ADT45   45"
      ]
     },
     "execution_count": 3,
     "metadata": {},
     "output_type": "execute_result"
    }
   ],
   "source": [
    "train.head()"
   ]
  },
  {
   "cell_type": "code",
   "execution_count": 4,
   "id": "e2a55d26",
   "metadata": {
    "execution": {
     "iopub.execute_input": "2022-12-13T13:21:37.190316Z",
     "iopub.status.busy": "2022-12-13T13:21:37.189193Z",
     "iopub.status.idle": "2022-12-13T13:21:37.220907Z",
     "shell.execute_reply": "2022-12-13T13:21:37.219846Z"
    },
    "papermill": {
     "duration": 0.051565,
     "end_time": "2022-12-13T13:21:37.223020",
     "exception": false,
     "start_time": "2022-12-13T13:21:37.171455",
     "status": "completed"
    },
    "tags": []
   },
   "outputs": [
    {
     "data": {
      "text/plain": [
       "({'bacterial_leaf_blight': 0,\n",
       "  'bacterial_leaf_streak': 1,\n",
       "  'bacterial_panicle_blight': 2,\n",
       "  'blast': 3,\n",
       "  'brown_spot': 4,\n",
       "  'dead_heart': 5,\n",
       "  'downy_mildew': 6,\n",
       "  'hispa': 7,\n",
       "  'normal': 8,\n",
       "  'tungro': 9},\n",
       " {0: 'bacterial_leaf_blight',\n",
       "  1: 'bacterial_leaf_streak',\n",
       "  2: 'bacterial_panicle_blight',\n",
       "  3: 'blast',\n",
       "  4: 'brown_spot',\n",
       "  5: 'dead_heart',\n",
       "  6: 'downy_mildew',\n",
       "  7: 'hispa',\n",
       "  8: 'normal',\n",
       "  9: 'tungro'})"
      ]
     },
     "execution_count": 4,
     "metadata": {},
     "output_type": "execute_result"
    }
   ],
   "source": [
    "classes = np.unique(train[\"label\"])\n",
    "c2id = {c:i for i,c in enumerate(classes)}\n",
    "id2c = {i:c for i,c in enumerate(classes)}\n",
    "c2id,id2c"
   ]
  },
  {
   "cell_type": "code",
   "execution_count": 5,
   "id": "86aa3cbe",
   "metadata": {
    "execution": {
     "iopub.execute_input": "2022-12-13T13:21:37.253388Z",
     "iopub.status.busy": "2022-12-13T13:21:37.252963Z",
     "iopub.status.idle": "2022-12-13T13:21:37.282206Z",
     "shell.execute_reply": "2022-12-13T13:21:37.281015Z"
    },
    "papermill": {
     "duration": 0.051963,
     "end_time": "2022-12-13T13:21:37.285603",
     "exception": false,
     "start_time": "2022-12-13T13:21:37.233640",
     "status": "completed"
    },
    "tags": []
   },
   "outputs": [
    {
     "data": {
      "text/html": [
       "<div>\n",
       "<style scoped>\n",
       "    .dataframe tbody tr th:only-of-type {\n",
       "        vertical-align: middle;\n",
       "    }\n",
       "\n",
       "    .dataframe tbody tr th {\n",
       "        vertical-align: top;\n",
       "    }\n",
       "\n",
       "    .dataframe thead th {\n",
       "        text-align: right;\n",
       "    }\n",
       "</style>\n",
       "<table border=\"1\" class=\"dataframe\">\n",
       "  <thead>\n",
       "    <tr style=\"text-align: right;\">\n",
       "      <th></th>\n",
       "      <th>image_id</th>\n",
       "      <th>label</th>\n",
       "      <th>variety</th>\n",
       "      <th>age</th>\n",
       "      <th>label_id</th>\n",
       "    </tr>\n",
       "  </thead>\n",
       "  <tbody>\n",
       "    <tr>\n",
       "      <th>0</th>\n",
       "      <td>100330.jpg</td>\n",
       "      <td>bacterial_leaf_blight</td>\n",
       "      <td>ADT45</td>\n",
       "      <td>45</td>\n",
       "      <td>0</td>\n",
       "    </tr>\n",
       "    <tr>\n",
       "      <th>1</th>\n",
       "      <td>100365.jpg</td>\n",
       "      <td>bacterial_leaf_blight</td>\n",
       "      <td>ADT45</td>\n",
       "      <td>45</td>\n",
       "      <td>0</td>\n",
       "    </tr>\n",
       "    <tr>\n",
       "      <th>2</th>\n",
       "      <td>100382.jpg</td>\n",
       "      <td>bacterial_leaf_blight</td>\n",
       "      <td>ADT45</td>\n",
       "      <td>45</td>\n",
       "      <td>0</td>\n",
       "    </tr>\n",
       "    <tr>\n",
       "      <th>3</th>\n",
       "      <td>100632.jpg</td>\n",
       "      <td>bacterial_leaf_blight</td>\n",
       "      <td>ADT45</td>\n",
       "      <td>45</td>\n",
       "      <td>0</td>\n",
       "    </tr>\n",
       "    <tr>\n",
       "      <th>4</th>\n",
       "      <td>101918.jpg</td>\n",
       "      <td>bacterial_leaf_blight</td>\n",
       "      <td>ADT45</td>\n",
       "      <td>45</td>\n",
       "      <td>0</td>\n",
       "    </tr>\n",
       "    <tr>\n",
       "      <th>...</th>\n",
       "      <td>...</td>\n",
       "      <td>...</td>\n",
       "      <td>...</td>\n",
       "      <td>...</td>\n",
       "      <td>...</td>\n",
       "    </tr>\n",
       "    <tr>\n",
       "      <th>10402</th>\n",
       "      <td>107607.jpg</td>\n",
       "      <td>tungro</td>\n",
       "      <td>Zonal</td>\n",
       "      <td>55</td>\n",
       "      <td>9</td>\n",
       "    </tr>\n",
       "    <tr>\n",
       "      <th>10403</th>\n",
       "      <td>107811.jpg</td>\n",
       "      <td>tungro</td>\n",
       "      <td>Zonal</td>\n",
       "      <td>55</td>\n",
       "      <td>9</td>\n",
       "    </tr>\n",
       "    <tr>\n",
       "      <th>10404</th>\n",
       "      <td>108547.jpg</td>\n",
       "      <td>tungro</td>\n",
       "      <td>Zonal</td>\n",
       "      <td>55</td>\n",
       "      <td>9</td>\n",
       "    </tr>\n",
       "    <tr>\n",
       "      <th>10405</th>\n",
       "      <td>110245.jpg</td>\n",
       "      <td>tungro</td>\n",
       "      <td>Zonal</td>\n",
       "      <td>55</td>\n",
       "      <td>9</td>\n",
       "    </tr>\n",
       "    <tr>\n",
       "      <th>10406</th>\n",
       "      <td>110381.jpg</td>\n",
       "      <td>tungro</td>\n",
       "      <td>Zonal</td>\n",
       "      <td>55</td>\n",
       "      <td>9</td>\n",
       "    </tr>\n",
       "  </tbody>\n",
       "</table>\n",
       "<p>10407 rows × 5 columns</p>\n",
       "</div>"
      ],
      "text/plain": [
       "         image_id                  label variety  age  label_id\n",
       "0      100330.jpg  bacterial_leaf_blight   ADT45   45         0\n",
       "1      100365.jpg  bacterial_leaf_blight   ADT45   45         0\n",
       "2      100382.jpg  bacterial_leaf_blight   ADT45   45         0\n",
       "3      100632.jpg  bacterial_leaf_blight   ADT45   45         0\n",
       "4      101918.jpg  bacterial_leaf_blight   ADT45   45         0\n",
       "...           ...                    ...     ...  ...       ...\n",
       "10402  107607.jpg                 tungro   Zonal   55         9\n",
       "10403  107811.jpg                 tungro   Zonal   55         9\n",
       "10404  108547.jpg                 tungro   Zonal   55         9\n",
       "10405  110245.jpg                 tungro   Zonal   55         9\n",
       "10406  110381.jpg                 tungro   Zonal   55         9\n",
       "\n",
       "[10407 rows x 5 columns]"
      ]
     },
     "execution_count": 5,
     "metadata": {},
     "output_type": "execute_result"
    }
   ],
   "source": [
    "train[\"label_id\"]=train[\"label\"].map(c2id)\n",
    "train"
   ]
  },
  {
   "cell_type": "code",
   "execution_count": 6,
   "id": "acfa0483",
   "metadata": {
    "execution": {
     "iopub.execute_input": "2022-12-13T13:21:37.320183Z",
     "iopub.status.busy": "2022-12-13T13:21:37.319228Z",
     "iopub.status.idle": "2022-12-13T13:21:37.340380Z",
     "shell.execute_reply": "2022-12-13T13:21:37.339024Z"
    },
    "papermill": {
     "duration": 0.042262,
     "end_time": "2022-12-13T13:21:37.344216",
     "exception": false,
     "start_time": "2022-12-13T13:21:37.301954",
     "status": "completed"
    },
    "tags": []
   },
   "outputs": [
    {
     "data": {
      "text/html": [
       "<div>\n",
       "<style scoped>\n",
       "    .dataframe tbody tr th:only-of-type {\n",
       "        vertical-align: middle;\n",
       "    }\n",
       "\n",
       "    .dataframe tbody tr th {\n",
       "        vertical-align: top;\n",
       "    }\n",
       "\n",
       "    .dataframe thead th {\n",
       "        text-align: right;\n",
       "    }\n",
       "</style>\n",
       "<table border=\"1\" class=\"dataframe\">\n",
       "  <thead>\n",
       "    <tr style=\"text-align: right;\">\n",
       "      <th></th>\n",
       "      <th>image_id</th>\n",
       "      <th>label</th>\n",
       "      <th>variety</th>\n",
       "      <th>age</th>\n",
       "      <th>label_id</th>\n",
       "    </tr>\n",
       "  </thead>\n",
       "  <tbody>\n",
       "    <tr>\n",
       "      <th>1059</th>\n",
       "      <td>109168.jpg</td>\n",
       "      <td>bacterial_panicle_blight</td>\n",
       "      <td>ADT45</td>\n",
       "      <td>70</td>\n",
       "      <td>2</td>\n",
       "    </tr>\n",
       "    <tr>\n",
       "      <th>8807</th>\n",
       "      <td>106564.jpg</td>\n",
       "      <td>normal</td>\n",
       "      <td>ADT45</td>\n",
       "      <td>70</td>\n",
       "      <td>8</td>\n",
       "    </tr>\n",
       "    <tr>\n",
       "      <th>8071</th>\n",
       "      <td>104164.jpg</td>\n",
       "      <td>normal</td>\n",
       "      <td>ADT45</td>\n",
       "      <td>60</td>\n",
       "      <td>8</td>\n",
       "    </tr>\n",
       "    <tr>\n",
       "      <th>8154</th>\n",
       "      <td>105592.jpg</td>\n",
       "      <td>normal</td>\n",
       "      <td>ADT45</td>\n",
       "      <td>60</td>\n",
       "      <td>8</td>\n",
       "    </tr>\n",
       "    <tr>\n",
       "      <th>9975</th>\n",
       "      <td>104063.jpg</td>\n",
       "      <td>tungro</td>\n",
       "      <td>ADT45</td>\n",
       "      <td>70</td>\n",
       "      <td>9</td>\n",
       "    </tr>\n",
       "  </tbody>\n",
       "</table>\n",
       "</div>"
      ],
      "text/plain": [
       "        image_id                     label variety  age  label_id\n",
       "1059  109168.jpg  bacterial_panicle_blight   ADT45   70         2\n",
       "8807  106564.jpg                    normal   ADT45   70         8\n",
       "8071  104164.jpg                    normal   ADT45   60         8\n",
       "8154  105592.jpg                    normal   ADT45   60         8\n",
       "9975  104063.jpg                    tungro   ADT45   70         9"
      ]
     },
     "execution_count": 6,
     "metadata": {},
     "output_type": "execute_result"
    }
   ],
   "source": [
    "#Shuffle of file train.CSV\n",
    "train = train.sample(frac=1.0)\n",
    "train.head()"
   ]
  },
  {
   "cell_type": "code",
   "execution_count": 7,
   "id": "f9c870af",
   "metadata": {
    "execution": {
     "iopub.execute_input": "2022-12-13T13:21:37.379870Z",
     "iopub.status.busy": "2022-12-13T13:21:37.379444Z",
     "iopub.status.idle": "2022-12-13T13:21:37.393889Z",
     "shell.execute_reply": "2022-12-13T13:21:37.392810Z"
    },
    "papermill": {
     "duration": 0.036059,
     "end_time": "2022-12-13T13:21:37.397388",
     "exception": false,
     "start_time": "2022-12-13T13:21:37.361329",
     "status": "completed"
    },
    "tags": []
   },
   "outputs": [
    {
     "data": {
      "text/plain": [
       "1059     109168.jpg\n",
       "8807     106564.jpg\n",
       "8071     104164.jpg\n",
       "8154     105592.jpg\n",
       "9975     104063.jpg\n",
       "            ...    \n",
       "10143    109389.jpg\n",
       "1825     106489.jpg\n",
       "2318     102829.jpg\n",
       "8079     104294.jpg\n",
       "5183     104150.jpg\n",
       "Name: image_id, Length: 10407, dtype: object"
      ]
     },
     "execution_count": 7,
     "metadata": {},
     "output_type": "execute_result"
    }
   ],
   "source": [
    "train[\"image_id\"]"
   ]
  },
  {
   "cell_type": "code",
   "execution_count": 8,
   "id": "f8300644",
   "metadata": {
    "execution": {
     "iopub.execute_input": "2022-12-13T13:21:37.429442Z",
     "iopub.status.busy": "2022-12-13T13:21:37.429187Z",
     "iopub.status.idle": "2022-12-13T13:21:37.452139Z",
     "shell.execute_reply": "2022-12-13T13:21:37.450824Z"
    },
    "papermill": {
     "duration": 0.045871,
     "end_time": "2022-12-13T13:21:37.457384",
     "exception": false,
     "start_time": "2022-12-13T13:21:37.411513",
     "status": "completed"
    },
    "tags": []
   },
   "outputs": [
    {
     "data": {
      "text/plain": [
       "(1059     train_images/bacterial_panicle_blight/109168.jpg\n",
       " 8807                       train_images/normal/106564.jpg\n",
       " 8071                       train_images/normal/104164.jpg\n",
       " 8154                       train_images/normal/105592.jpg\n",
       " 9975                       train_images/tungro/104063.jpg\n",
       "                                ...                       \n",
       " 10143                      train_images/tungro/109389.jpg\n",
       " 1825                        train_images/blast/106489.jpg\n",
       " 2318                        train_images/blast/102829.jpg\n",
       " 8079                       train_images/normal/104294.jpg\n",
       " 5183                   train_images/dead_heart/104150.jpg\n",
       " Name: label, Length: 10407, dtype: object,\n",
       " array([2, 8, 8, ..., 3, 8, 5]))"
      ]
     },
     "execution_count": 8,
     "metadata": {},
     "output_type": "execute_result"
    }
   ],
   "source": [
    "#This is how we access to the working space (Input).\n",
    "chemins = \"train_images/\"+train[\"label\"]+\"/\"+train[\"image_id\"].values\n",
    "labels = train[\"label_id\"].values\n",
    "chemins,labels"
   ]
  },
  {
   "cell_type": "code",
   "execution_count": 9,
   "id": "c7404e2a",
   "metadata": {
    "execution": {
     "iopub.execute_input": "2022-12-13T13:21:37.492570Z",
     "iopub.status.busy": "2022-12-13T13:21:37.492171Z",
     "iopub.status.idle": "2022-12-13T13:21:38.551184Z",
     "shell.execute_reply": "2022-12-13T13:21:38.549991Z"
    },
    "papermill": {
     "duration": 1.081374,
     "end_time": "2022-12-13T13:21:38.554604",
     "exception": false,
     "start_time": "2022-12-13T13:21:37.473230",
     "status": "completed"
    },
    "tags": []
   },
   "outputs": [
    {
     "data": {
      "text/plain": [
       "<TensorSliceDataset shapes: ((), ()), types: (tf.string, tf.int64)>"
      ]
     },
     "execution_count": 9,
     "metadata": {},
     "output_type": "execute_result"
    }
   ],
   "source": [
    "train_ds = tf.data.Dataset.from_tensor_slices((chemins,labels))\n",
    "train_ds"
   ]
  },
  {
   "cell_type": "code",
   "execution_count": 10,
   "id": "76833c9a",
   "metadata": {
    "execution": {
     "iopub.execute_input": "2022-12-13T13:21:38.572876Z",
     "iopub.status.busy": "2022-12-13T13:21:38.572340Z",
     "iopub.status.idle": "2022-12-13T13:21:38.576814Z",
     "shell.execute_reply": "2022-12-13T13:21:38.576235Z"
    },
    "papermill": {
     "duration": 0.016765,
     "end_time": "2022-12-13T13:21:38.578680",
     "exception": false,
     "start_time": "2022-12-13T13:21:38.561915",
     "status": "completed"
    },
    "tags": []
   },
   "outputs": [],
   "source": [
    "#extract et decode l'image @JPEG \n",
    "def extract_image(chemin,label):\n",
    "    fichier = tf.io.read_file(data_dir +chemin)\n",
    "    image=tf.image.decode_jpeg(fichier,channels=3)\n",
    "    return image,label"
   ]
  },
  {
   "cell_type": "code",
   "execution_count": 11,
   "id": "03509a01",
   "metadata": {
    "execution": {
     "iopub.execute_input": "2022-12-13T13:21:38.593713Z",
     "iopub.status.busy": "2022-12-13T13:21:38.593433Z",
     "iopub.status.idle": "2022-12-13T13:21:38.651103Z",
     "shell.execute_reply": "2022-12-13T13:21:38.650100Z"
    },
    "papermill": {
     "duration": 0.067832,
     "end_time": "2022-12-13T13:21:38.653150",
     "exception": false,
     "start_time": "2022-12-13T13:21:38.585318",
     "status": "completed"
    },
    "tags": []
   },
   "outputs": [
    {
     "data": {
      "text/plain": [
       "<MapDataset shapes: ((None, None, 3), ()), types: (tf.uint8, tf.int64)>"
      ]
     },
     "execution_count": 11,
     "metadata": {},
     "output_type": "execute_result"
    }
   ],
   "source": [
    "train_ds =train_ds.map(extract_image)\n",
    "train_ds"
   ]
  },
  {
   "cell_type": "code",
   "execution_count": 12,
   "id": "bbdb58cc",
   "metadata": {
    "execution": {
     "iopub.execute_input": "2022-12-13T13:21:38.668168Z",
     "iopub.status.busy": "2022-12-13T13:21:38.667651Z",
     "iopub.status.idle": "2022-12-13T13:21:38.672360Z",
     "shell.execute_reply": "2022-12-13T13:21:38.671543Z"
    },
    "papermill": {
     "duration": 0.014396,
     "end_time": "2022-12-13T13:21:38.674351",
     "exception": false,
     "start_time": "2022-12-13T13:21:38.659955",
     "status": "completed"
    },
    "tags": []
   },
   "outputs": [],
   "source": [
    "#normalisation de tf.unit8 a tf.float32\n",
    "def normalisation(image,label):\n",
    "    image = tf.cast(image,dtype=tf.float32)/255.0\n",
    "    return image,label"
   ]
  },
  {
   "cell_type": "code",
   "execution_count": 13,
   "id": "060c9fb1",
   "metadata": {
    "execution": {
     "iopub.execute_input": "2022-12-13T13:21:38.688998Z",
     "iopub.status.busy": "2022-12-13T13:21:38.688753Z",
     "iopub.status.idle": "2022-12-13T13:21:38.729816Z",
     "shell.execute_reply": "2022-12-13T13:21:38.728985Z"
    },
    "papermill": {
     "duration": 0.050608,
     "end_time": "2022-12-13T13:21:38.731777",
     "exception": false,
     "start_time": "2022-12-13T13:21:38.681169",
     "status": "completed"
    },
    "tags": []
   },
   "outputs": [
    {
     "data": {
      "text/plain": [
       "<MapDataset shapes: ((None, None, 3), ()), types: (tf.float32, tf.int64)>"
      ]
     },
     "execution_count": 13,
     "metadata": {},
     "output_type": "execute_result"
    }
   ],
   "source": [
    "train_ds =train_ds.map(normalisation)\n",
    "train_ds"
   ]
  },
  {
   "cell_type": "code",
   "execution_count": 14,
   "id": "85f5dba9",
   "metadata": {
    "execution": {
     "iopub.execute_input": "2022-12-13T13:21:38.748126Z",
     "iopub.status.busy": "2022-12-13T13:21:38.746763Z",
     "iopub.status.idle": "2022-12-13T13:21:38.753512Z",
     "shell.execute_reply": "2022-12-13T13:21:38.752699Z"
    },
    "papermill": {
     "duration": 0.016661,
     "end_time": "2022-12-13T13:21:38.755467",
     "exception": false,
     "start_time": "2022-12-13T13:21:38.738806",
     "status": "completed"
    },
    "tags": []
   },
   "outputs": [],
   "source": [
    "def augment(image,label):\n",
    "    image = tf.image.resize(image,size=(230,260))\n",
    "    image = tf.image.random_crop(image,size=(224,224,3))\n",
    "    if tf.random.uniform(shape=[])<=0.6:\n",
    "        image = tf.image.rot90(image,3)\n",
    "        image = tf.image.flip_left_right(image)\n",
    "    if tf.random.uniform(shape=[])<=0.7:\n",
    "        image = tf.image.adjust_brightness(image,0.2)\n",
    "    if tf.random.uniform(shape=[])<=0.6:\n",
    "        image = tf.image.adjust_contrast(image, contrast_factor=1.5)\n",
    "    return image,label"
   ]
  },
  {
   "cell_type": "code",
   "execution_count": 15,
   "id": "d5d79147",
   "metadata": {
    "execution": {
     "iopub.execute_input": "2022-12-13T13:21:38.771240Z",
     "iopub.status.busy": "2022-12-13T13:21:38.769916Z",
     "iopub.status.idle": "2022-12-13T13:21:38.952511Z",
     "shell.execute_reply": "2022-12-13T13:21:38.951515Z"
    },
    "papermill": {
     "duration": 0.192382,
     "end_time": "2022-12-13T13:21:38.954717",
     "exception": false,
     "start_time": "2022-12-13T13:21:38.762335",
     "status": "completed"
    },
    "tags": []
   },
   "outputs": [
    {
     "data": {
      "text/plain": [
       "<MapDataset shapes: ((224, 224, 3), ()), types: (tf.float32, tf.int64)>"
      ]
     },
     "execution_count": 15,
     "metadata": {},
     "output_type": "execute_result"
    }
   ],
   "source": [
    "train_ds =train_ds.map(augment)\n",
    "train_ds"
   ]
  },
  {
   "cell_type": "code",
   "execution_count": 16,
   "id": "c844e40c",
   "metadata": {
    "execution": {
     "iopub.execute_input": "2022-12-13T13:21:38.970633Z",
     "iopub.status.busy": "2022-12-13T13:21:38.970349Z",
     "iopub.status.idle": "2022-12-13T13:21:38.976758Z",
     "shell.execute_reply": "2022-12-13T13:21:38.975889Z"
    },
    "papermill": {
     "duration": 0.016795,
     "end_time": "2022-12-13T13:21:38.978739",
     "exception": false,
     "start_time": "2022-12-13T13:21:38.961944",
     "status": "completed"
    },
    "tags": []
   },
   "outputs": [
    {
     "data": {
      "text/plain": [
       "<BatchDataset shapes: ((None, 224, 224, 3), (None,)), types: (tf.float32, tf.int64)>"
      ]
     },
     "execution_count": 16,
     "metadata": {},
     "output_type": "execute_result"
    }
   ],
   "source": [
    "train_ds =train_ds.batch(32)\n",
    "train_ds"
   ]
  },
  {
   "cell_type": "code",
   "execution_count": 17,
   "id": "81b74d39",
   "metadata": {
    "execution": {
     "iopub.execute_input": "2022-12-13T13:21:38.994102Z",
     "iopub.status.busy": "2022-12-13T13:21:38.993852Z",
     "iopub.status.idle": "2022-12-13T13:21:38.998315Z",
     "shell.execute_reply": "2022-12-13T13:21:38.997379Z"
    },
    "papermill": {
     "duration": 0.01453,
     "end_time": "2022-12-13T13:21:39.000344",
     "exception": false,
     "start_time": "2022-12-13T13:21:38.985814",
     "status": "completed"
    },
    "tags": []
   },
   "outputs": [],
   "source": [
    "def scheduler(epoch, lr):\n",
    "    if epoch < 2:\n",
    "        return lr\n",
    "    elif epoch < 4:\n",
    "        return lr * 0.5\n",
    "    else:\n",
    "        return lr\n",
    "\n",
    "callback = tf.keras.callbacks.LearningRateScheduler(scheduler)"
   ]
  },
  {
   "cell_type": "code",
   "execution_count": 18,
   "id": "f5c5fe6c",
   "metadata": {
    "execution": {
     "iopub.execute_input": "2022-12-13T13:21:39.015830Z",
     "iopub.status.busy": "2022-12-13T13:21:39.015098Z",
     "iopub.status.idle": "2022-12-13T13:21:43.147827Z",
     "shell.execute_reply": "2022-12-13T13:21:43.146850Z"
    },
    "papermill": {
     "duration": 4.14294,
     "end_time": "2022-12-13T13:21:43.150287",
     "exception": false,
     "start_time": "2022-12-13T13:21:39.007347",
     "status": "completed"
    },
    "tags": []
   },
   "outputs": [],
   "source": [
    "model=keras.Sequential()\n",
    "model.add(hub.KerasLayer(\"https://tfhub.dev/google/cropnet/feature_vector/concat/1\", trainable=True , arguments=dict(batch_norm_momentum=0.997)))\n",
    "model.add(keras.layers.Dense(10,activation=\"softmax\"))"
   ]
  },
  {
   "cell_type": "code",
   "execution_count": 19,
   "id": "70331017",
   "metadata": {
    "execution": {
     "iopub.execute_input": "2022-12-13T13:21:43.167775Z",
     "iopub.status.busy": "2022-12-13T13:21:43.166101Z",
     "iopub.status.idle": "2022-12-13T13:21:43.171462Z",
     "shell.execute_reply": "2022-12-13T13:21:43.170567Z"
    },
    "papermill": {
     "duration": 0.015507,
     "end_time": "2022-12-13T13:21:43.173371",
     "exception": false,
     "start_time": "2022-12-13T13:21:43.157864",
     "status": "completed"
    },
    "tags": []
   },
   "outputs": [],
   "source": [
    "opt = tf.keras.optimizers.RMSprop(learning_rate=0.001)"
   ]
  },
  {
   "cell_type": "code",
   "execution_count": 20,
   "id": "c61a3df1",
   "metadata": {
    "execution": {
     "iopub.execute_input": "2022-12-13T13:21:43.188582Z",
     "iopub.status.busy": "2022-12-13T13:21:43.188307Z",
     "iopub.status.idle": "2022-12-13T13:21:43.200879Z",
     "shell.execute_reply": "2022-12-13T13:21:43.200070Z"
    },
    "papermill": {
     "duration": 0.022349,
     "end_time": "2022-12-13T13:21:43.202774",
     "exception": false,
     "start_time": "2022-12-13T13:21:43.180425",
     "status": "completed"
    },
    "tags": []
   },
   "outputs": [],
   "source": [
    "model.compile(optimizer=opt,loss=\"sparse_categorical_crossentropy\",metrics=[\"accuracy\"])"
   ]
  },
  {
   "cell_type": "code",
   "execution_count": 21,
   "id": "20b0aecb",
   "metadata": {
    "execution": {
     "iopub.execute_input": "2022-12-13T13:21:43.218619Z",
     "iopub.status.busy": "2022-12-13T13:21:43.217760Z",
     "iopub.status.idle": "2022-12-13T13:21:43.222327Z",
     "shell.execute_reply": "2022-12-13T13:21:43.221445Z"
    },
    "papermill": {
     "duration": 0.014382,
     "end_time": "2022-12-13T13:21:43.224259",
     "exception": false,
     "start_time": "2022-12-13T13:21:43.209877",
     "status": "completed"
    },
    "tags": []
   },
   "outputs": [],
   "source": [
    "CSV_logger = tf.keras.callbacks.CSVLogger('training.log')"
   ]
  },
  {
   "cell_type": "code",
   "execution_count": 22,
   "id": "973c28f5",
   "metadata": {
    "execution": {
     "iopub.execute_input": "2022-12-13T13:21:43.239621Z",
     "iopub.status.busy": "2022-12-13T13:21:43.239346Z",
     "iopub.status.idle": "2022-12-13T13:44:07.455580Z",
     "shell.execute_reply": "2022-12-13T13:44:07.454453Z"
    },
    "papermill": {
     "duration": 1344.226071,
     "end_time": "2022-12-13T13:44:07.457662",
     "exception": false,
     "start_time": "2022-12-13T13:21:43.231591",
     "status": "completed"
    },
    "tags": []
   },
   "outputs": [
    {
     "name": "stdout",
     "output_type": "stream",
     "text": [
      "Epoch 1/20\n",
      "326/326 [==============================] - 120s 306ms/step - loss: 1.0209 - accuracy: 0.6678\n",
      "Epoch 2/20\n",
      "326/326 [==============================] - 64s 196ms/step - loss: 0.2953 - accuracy: 0.9057\n",
      "Epoch 3/20\n",
      "326/326 [==============================] - 65s 198ms/step - loss: 0.1117 - accuracy: 0.9647\n",
      "Epoch 4/20\n",
      "326/326 [==============================] - 64s 197ms/step - loss: 0.0494 - accuracy: 0.9821\n",
      "Epoch 5/20\n",
      "326/326 [==============================] - 64s 196ms/step - loss: 0.0341 - accuracy: 0.9879\n",
      "Epoch 6/20\n",
      "326/326 [==============================] - 64s 197ms/step - loss: 0.0266 - accuracy: 0.9907\n",
      "Epoch 7/20\n",
      "326/326 [==============================] - 64s 195ms/step - loss: 0.0227 - accuracy: 0.9917\n",
      "Epoch 8/20\n",
      "326/326 [==============================] - 64s 196ms/step - loss: 0.0188 - accuracy: 0.9928\n",
      "Epoch 9/20\n",
      "326/326 [==============================] - 64s 197ms/step - loss: 0.0182 - accuracy: 0.9935\n",
      "Epoch 10/20\n",
      "326/326 [==============================] - 64s 197ms/step - loss: 0.0168 - accuracy: 0.9952\n",
      "Epoch 11/20\n",
      "326/326 [==============================] - 65s 198ms/step - loss: 0.0138 - accuracy: 0.9953\n",
      "Epoch 12/20\n",
      "326/326 [==============================] - 64s 197ms/step - loss: 0.0124 - accuracy: 0.9964\n",
      "Epoch 13/20\n",
      "326/326 [==============================] - 64s 197ms/step - loss: 0.0094 - accuracy: 0.9962\n",
      "Epoch 14/20\n",
      "326/326 [==============================] - 64s 196ms/step - loss: 0.0130 - accuracy: 0.9953\n",
      "Epoch 15/20\n",
      "326/326 [==============================] - 64s 197ms/step - loss: 0.0113 - accuracy: 0.9962\n",
      "Epoch 16/20\n",
      "326/326 [==============================] - 64s 197ms/step - loss: 0.0065 - accuracy: 0.9977\n",
      "Epoch 17/20\n",
      "326/326 [==============================] - 65s 198ms/step - loss: 0.0065 - accuracy: 0.9980\n",
      "Epoch 18/20\n",
      "326/326 [==============================] - 64s 197ms/step - loss: 0.0090 - accuracy: 0.9972\n",
      "Epoch 19/20\n",
      "326/326 [==============================] - 65s 198ms/step - loss: 0.0111 - accuracy: 0.9969\n",
      "Epoch 20/20\n",
      "326/326 [==============================] - 65s 198ms/step - loss: 0.0046 - accuracy: 0.9983\n"
     ]
    },
    {
     "data": {
      "text/plain": [
       "<tensorflow.python.keras.callbacks.History at 0x7fc5dc0c8910>"
      ]
     },
     "execution_count": 22,
     "metadata": {},
     "output_type": "execute_result"
    }
   ],
   "source": [
    "model.fit(train_ds,epochs=20,callbacks=[callback,CSV_logger])"
   ]
  },
  {
   "cell_type": "code",
   "execution_count": 23,
   "id": "772dd6b8",
   "metadata": {
    "execution": {
     "iopub.execute_input": "2022-12-13T13:44:08.190170Z",
     "iopub.status.busy": "2022-12-13T13:44:08.189792Z",
     "iopub.status.idle": "2022-12-13T13:44:08.199759Z",
     "shell.execute_reply": "2022-12-13T13:44:08.198698Z"
    },
    "papermill": {
     "duration": 0.353447,
     "end_time": "2022-12-13T13:44:08.201720",
     "exception": false,
     "start_time": "2022-12-13T13:44:07.848273",
     "status": "completed"
    },
    "tags": []
   },
   "outputs": [
    {
     "data": {
      "text/plain": [
       "(array(['test_images/200001.jpg', 'test_images/200002.jpg',\n",
       "        'test_images/200003.jpg', ..., 'test_images/203467.jpg',\n",
       "        'test_images/203468.jpg', 'test_images/203469.jpg'], dtype=object),\n",
       " array([-1, -1, -1, ..., -1, -1, -1]))"
      ]
     },
     "execution_count": 23,
     "metadata": {},
     "output_type": "execute_result"
    }
   ],
   "source": [
    "test_chemins = \"test_images/\"+sub[\"image_id\"].values\n",
    "test_labels = np.full(len(test_chemins),fill_value=-1)\n",
    "test_chemins,test_labels"
   ]
  },
  {
   "cell_type": "code",
   "execution_count": 24,
   "id": "802568bf",
   "metadata": {
    "execution": {
     "iopub.execute_input": "2022-12-13T13:44:08.882093Z",
     "iopub.status.busy": "2022-12-13T13:44:08.880194Z",
     "iopub.status.idle": "2022-12-13T13:44:08.889243Z",
     "shell.execute_reply": "2022-12-13T13:44:08.888127Z"
    },
    "papermill": {
     "duration": 0.35415,
     "end_time": "2022-12-13T13:44:08.891861",
     "exception": false,
     "start_time": "2022-12-13T13:44:08.537711",
     "status": "completed"
    },
    "tags": []
   },
   "outputs": [
    {
     "data": {
      "text/plain": [
       "<TensorSliceDataset shapes: ((), ()), types: (tf.string, tf.int64)>"
      ]
     },
     "execution_count": 24,
     "metadata": {},
     "output_type": "execute_result"
    }
   ],
   "source": [
    "test_ds =tf.data.Dataset.from_tensor_slices((test_chemins,test_labels))\n",
    "test_ds"
   ]
  },
  {
   "cell_type": "code",
   "execution_count": 25,
   "id": "31ab788f",
   "metadata": {
    "execution": {
     "iopub.execute_input": "2022-12-13T13:44:09.617495Z",
     "iopub.status.busy": "2022-12-13T13:44:09.617154Z",
     "iopub.status.idle": "2022-12-13T13:44:09.716459Z",
     "shell.execute_reply": "2022-12-13T13:44:09.715359Z"
    },
    "papermill": {
     "duration": 0.492633,
     "end_time": "2022-12-13T13:44:09.718809",
     "exception": false,
     "start_time": "2022-12-13T13:44:09.226176",
     "status": "completed"
    },
    "tags": []
   },
   "outputs": [
    {
     "data": {
      "text/plain": [
       "<BatchDataset shapes: ((None, 224, 224, 3), (None,)), types: (tf.float32, tf.int64)>"
      ]
     },
     "execution_count": 25,
     "metadata": {},
     "output_type": "execute_result"
    }
   ],
   "source": [
    "test_ds = test_ds.map(extract_image).map(normalisation).map(augment).batch(32)\n",
    "test_ds"
   ]
  },
  {
   "cell_type": "code",
   "execution_count": 26,
   "id": "6500798c",
   "metadata": {
    "execution": {
     "iopub.execute_input": "2022-12-13T13:44:10.404578Z",
     "iopub.status.busy": "2022-12-13T13:44:10.404218Z",
     "iopub.status.idle": "2022-12-13T13:44:46.100798Z",
     "shell.execute_reply": "2022-12-13T13:44:46.099815Z"
    },
    "papermill": {
     "duration": 36.045496,
     "end_time": "2022-12-13T13:44:46.103318",
     "exception": false,
     "start_time": "2022-12-13T13:44:10.057822",
     "status": "completed"
    },
    "tags": []
   },
   "outputs": [],
   "source": [
    "predictions = model.predict(test_ds)"
   ]
  },
  {
   "cell_type": "code",
   "execution_count": 27,
   "id": "f177ab30",
   "metadata": {
    "execution": {
     "iopub.execute_input": "2022-12-13T13:44:46.831368Z",
     "iopub.status.busy": "2022-12-13T13:44:46.831011Z",
     "iopub.status.idle": "2022-12-13T13:44:46.838637Z",
     "shell.execute_reply": "2022-12-13T13:44:46.837680Z"
    },
    "papermill": {
     "duration": 0.394514,
     "end_time": "2022-12-13T13:44:46.840737",
     "exception": false,
     "start_time": "2022-12-13T13:44:46.446223",
     "status": "completed"
    },
    "tags": []
   },
   "outputs": [
    {
     "data": {
      "text/plain": [
       "array([[4.7894163e-18, 1.0577184e-15, 6.6965197e-16, ..., 1.0000000e+00,\n",
       "        7.7777394e-15, 2.9759529e-16],\n",
       "       [1.5266687e-08, 1.1059867e-09, 5.6312121e-12, ..., 2.0220649e-07,\n",
       "        9.9999833e-01, 1.4651604e-06],\n",
       "       [3.1439471e-17, 1.6444044e-15, 4.4302778e-17, ..., 9.5802147e-07,\n",
       "        5.5223243e-10, 1.4750191e-11],\n",
       "       ...,\n",
       "       [8.3687680e-25, 9.7503818e-21, 1.0299712e-20, ..., 7.5441166e-21,\n",
       "        1.0000000e+00, 2.5651619e-20],\n",
       "       [8.1045020e-09, 9.9999988e-01, 5.9680277e-12, ..., 7.8993438e-08,\n",
       "        1.6088317e-10, 4.9321979e-12],\n",
       "       [8.0355589e-32, 1.0389608e-27, 3.1782295e-34, ..., 9.0347417e-36,\n",
       "        9.3346865e-24, 1.6675929e-26]], dtype=float32)"
      ]
     },
     "execution_count": 27,
     "metadata": {},
     "output_type": "execute_result"
    }
   ],
   "source": [
    "predictions"
   ]
  },
  {
   "cell_type": "code",
   "execution_count": 28,
   "id": "36521e8a",
   "metadata": {
    "execution": {
     "iopub.execute_input": "2022-12-13T13:44:47.520964Z",
     "iopub.status.busy": "2022-12-13T13:44:47.520023Z",
     "iopub.status.idle": "2022-12-13T13:44:47.536945Z",
     "shell.execute_reply": "2022-12-13T13:44:47.535986Z"
    },
    "papermill": {
     "duration": 0.356886,
     "end_time": "2022-12-13T13:44:47.538866",
     "exception": false,
     "start_time": "2022-12-13T13:44:47.181980",
     "status": "completed"
    },
    "tags": []
   },
   "outputs": [
    {
     "data": {
      "text/html": [
       "<div>\n",
       "<style scoped>\n",
       "    .dataframe tbody tr th:only-of-type {\n",
       "        vertical-align: middle;\n",
       "    }\n",
       "\n",
       "    .dataframe tbody tr th {\n",
       "        vertical-align: top;\n",
       "    }\n",
       "\n",
       "    .dataframe thead th {\n",
       "        text-align: right;\n",
       "    }\n",
       "</style>\n",
       "<table border=\"1\" class=\"dataframe\">\n",
       "  <thead>\n",
       "    <tr style=\"text-align: right;\">\n",
       "      <th></th>\n",
       "      <th>image_id</th>\n",
       "      <th>label</th>\n",
       "      <th>label_id</th>\n",
       "    </tr>\n",
       "  </thead>\n",
       "  <tbody>\n",
       "    <tr>\n",
       "      <th>0</th>\n",
       "      <td>200001.jpg</td>\n",
       "      <td>hispa</td>\n",
       "      <td>7</td>\n",
       "    </tr>\n",
       "    <tr>\n",
       "      <th>1</th>\n",
       "      <td>200002.jpg</td>\n",
       "      <td>normal</td>\n",
       "      <td>8</td>\n",
       "    </tr>\n",
       "    <tr>\n",
       "      <th>2</th>\n",
       "      <td>200003.jpg</td>\n",
       "      <td>blast</td>\n",
       "      <td>3</td>\n",
       "    </tr>\n",
       "    <tr>\n",
       "      <th>3</th>\n",
       "      <td>200004.jpg</td>\n",
       "      <td>blast</td>\n",
       "      <td>3</td>\n",
       "    </tr>\n",
       "    <tr>\n",
       "      <th>4</th>\n",
       "      <td>200005.jpg</td>\n",
       "      <td>blast</td>\n",
       "      <td>3</td>\n",
       "    </tr>\n",
       "    <tr>\n",
       "      <th>...</th>\n",
       "      <td>...</td>\n",
       "      <td>...</td>\n",
       "      <td>...</td>\n",
       "    </tr>\n",
       "    <tr>\n",
       "      <th>3464</th>\n",
       "      <td>203465.jpg</td>\n",
       "      <td>dead_heart</td>\n",
       "      <td>5</td>\n",
       "    </tr>\n",
       "    <tr>\n",
       "      <th>3465</th>\n",
       "      <td>203466.jpg</td>\n",
       "      <td>hispa</td>\n",
       "      <td>7</td>\n",
       "    </tr>\n",
       "    <tr>\n",
       "      <th>3466</th>\n",
       "      <td>203467.jpg</td>\n",
       "      <td>normal</td>\n",
       "      <td>8</td>\n",
       "    </tr>\n",
       "    <tr>\n",
       "      <th>3467</th>\n",
       "      <td>203468.jpg</td>\n",
       "      <td>bacterial_leaf_streak</td>\n",
       "      <td>1</td>\n",
       "    </tr>\n",
       "    <tr>\n",
       "      <th>3468</th>\n",
       "      <td>203469.jpg</td>\n",
       "      <td>dead_heart</td>\n",
       "      <td>5</td>\n",
       "    </tr>\n",
       "  </tbody>\n",
       "</table>\n",
       "<p>3469 rows × 3 columns</p>\n",
       "</div>"
      ],
      "text/plain": [
       "        image_id                  label  label_id\n",
       "0     200001.jpg                  hispa         7\n",
       "1     200002.jpg                 normal         8\n",
       "2     200003.jpg                  blast         3\n",
       "3     200004.jpg                  blast         3\n",
       "4     200005.jpg                  blast         3\n",
       "...          ...                    ...       ...\n",
       "3464  203465.jpg             dead_heart         5\n",
       "3465  203466.jpg                  hispa         7\n",
       "3466  203467.jpg                 normal         8\n",
       "3467  203468.jpg  bacterial_leaf_streak         1\n",
       "3468  203469.jpg             dead_heart         5\n",
       "\n",
       "[3469 rows x 3 columns]"
      ]
     },
     "execution_count": 28,
     "metadata": {},
     "output_type": "execute_result"
    }
   ],
   "source": [
    "sub[\"label_id\"]=predictions.argmax(axis=1)\n",
    "sub[\"label\"]=sub[\"label_id\"].map(id2c)\n",
    "sub"
   ]
  },
  {
   "cell_type": "code",
   "execution_count": 29,
   "id": "3ee4042c",
   "metadata": {
    "execution": {
     "iopub.execute_input": "2022-12-13T13:44:48.312681Z",
     "iopub.status.busy": "2022-12-13T13:44:48.312288Z",
     "iopub.status.idle": "2022-12-13T13:44:48.325448Z",
     "shell.execute_reply": "2022-12-13T13:44:48.324459Z"
    },
    "papermill": {
     "duration": 0.441561,
     "end_time": "2022-12-13T13:44:48.327481",
     "exception": false,
     "start_time": "2022-12-13T13:44:47.885920",
     "status": "completed"
    },
    "tags": []
   },
   "outputs": [
    {
     "data": {
      "text/html": [
       "<div>\n",
       "<style scoped>\n",
       "    .dataframe tbody tr th:only-of-type {\n",
       "        vertical-align: middle;\n",
       "    }\n",
       "\n",
       "    .dataframe tbody tr th {\n",
       "        vertical-align: top;\n",
       "    }\n",
       "\n",
       "    .dataframe thead th {\n",
       "        text-align: right;\n",
       "    }\n",
       "</style>\n",
       "<table border=\"1\" class=\"dataframe\">\n",
       "  <thead>\n",
       "    <tr style=\"text-align: right;\">\n",
       "      <th></th>\n",
       "      <th>image_id</th>\n",
       "      <th>label</th>\n",
       "    </tr>\n",
       "  </thead>\n",
       "  <tbody>\n",
       "    <tr>\n",
       "      <th>0</th>\n",
       "      <td>200001.jpg</td>\n",
       "      <td>hispa</td>\n",
       "    </tr>\n",
       "    <tr>\n",
       "      <th>1</th>\n",
       "      <td>200002.jpg</td>\n",
       "      <td>normal</td>\n",
       "    </tr>\n",
       "    <tr>\n",
       "      <th>2</th>\n",
       "      <td>200003.jpg</td>\n",
       "      <td>blast</td>\n",
       "    </tr>\n",
       "    <tr>\n",
       "      <th>3</th>\n",
       "      <td>200004.jpg</td>\n",
       "      <td>blast</td>\n",
       "    </tr>\n",
       "    <tr>\n",
       "      <th>4</th>\n",
       "      <td>200005.jpg</td>\n",
       "      <td>blast</td>\n",
       "    </tr>\n",
       "    <tr>\n",
       "      <th>...</th>\n",
       "      <td>...</td>\n",
       "      <td>...</td>\n",
       "    </tr>\n",
       "    <tr>\n",
       "      <th>3464</th>\n",
       "      <td>203465.jpg</td>\n",
       "      <td>dead_heart</td>\n",
       "    </tr>\n",
       "    <tr>\n",
       "      <th>3465</th>\n",
       "      <td>203466.jpg</td>\n",
       "      <td>hispa</td>\n",
       "    </tr>\n",
       "    <tr>\n",
       "      <th>3466</th>\n",
       "      <td>203467.jpg</td>\n",
       "      <td>normal</td>\n",
       "    </tr>\n",
       "    <tr>\n",
       "      <th>3467</th>\n",
       "      <td>203468.jpg</td>\n",
       "      <td>bacterial_leaf_streak</td>\n",
       "    </tr>\n",
       "    <tr>\n",
       "      <th>3468</th>\n",
       "      <td>203469.jpg</td>\n",
       "      <td>dead_heart</td>\n",
       "    </tr>\n",
       "  </tbody>\n",
       "</table>\n",
       "<p>3469 rows × 2 columns</p>\n",
       "</div>"
      ],
      "text/plain": [
       "        image_id                  label\n",
       "0     200001.jpg                  hispa\n",
       "1     200002.jpg                 normal\n",
       "2     200003.jpg                  blast\n",
       "3     200004.jpg                  blast\n",
       "4     200005.jpg                  blast\n",
       "...          ...                    ...\n",
       "3464  203465.jpg             dead_heart\n",
       "3465  203466.jpg                  hispa\n",
       "3466  203467.jpg                 normal\n",
       "3467  203468.jpg  bacterial_leaf_streak\n",
       "3468  203469.jpg             dead_heart\n",
       "\n",
       "[3469 rows x 2 columns]"
      ]
     },
     "execution_count": 29,
     "metadata": {},
     "output_type": "execute_result"
    }
   ],
   "source": [
    "test_sub=sub[[\"image_id\",\"label\"]]\n",
    "test_sub"
   ]
  },
  {
   "cell_type": "code",
   "execution_count": 30,
   "id": "8aba86e0",
   "metadata": {
    "execution": {
     "iopub.execute_input": "2022-12-13T13:44:49.030430Z",
     "iopub.status.busy": "2022-12-13T13:44:49.030000Z",
     "iopub.status.idle": "2022-12-13T13:44:49.041941Z",
     "shell.execute_reply": "2022-12-13T13:44:49.041092Z"
    },
    "papermill": {
     "duration": 0.364271,
     "end_time": "2022-12-13T13:44:49.044078",
     "exception": false,
     "start_time": "2022-12-13T13:44:48.679807",
     "status": "completed"
    },
    "tags": []
   },
   "outputs": [],
   "source": [
    "test_sub.to_csv(\"sub49.csv\",index=False)"
   ]
  }
 ],
 "metadata": {
  "kernelspec": {
   "display_name": "Python 3",
   "language": "python",
   "name": "python3"
  },
  "language_info": {
   "codemirror_mode": {
    "name": "ipython",
    "version": 3
   },
   "file_extension": ".py",
   "mimetype": "text/x-python",
   "name": "python",
   "nbconvert_exporter": "python",
   "pygments_lexer": "ipython3",
   "version": "3.7.12"
  },
  "papermill": {
   "default_parameters": {},
   "duration": 1475.40436,
   "end_time": "2022-12-13T13:44:52.580246",
   "environment_variables": {},
   "exception": null,
   "input_path": "__notebook__.ipynb",
   "output_path": "__notebook__.ipynb",
   "parameters": {},
   "start_time": "2022-12-13T13:20:17.175886",
   "version": "2.3.4"
  }
 },
 "nbformat": 4,
 "nbformat_minor": 5
}
