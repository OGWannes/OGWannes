{
 "cells": [
  {
   "cell_type": "code",
   "execution_count": 1,
   "id": "cc9d27bb",
   "metadata": {
    "_cell_guid": "b1076dfc-b9ad-4769-8c92-a6c4dae69d19",
    "_uuid": "8f2839f25d086af736a60e9eeb907d3b93b6e0e5",
    "execution": {
     "iopub.execute_input": "2022-12-05T15:59:07.020735Z",
     "iopub.status.busy": "2022-12-05T15:59:07.019666Z",
     "iopub.status.idle": "2022-12-05T16:00:22.889568Z",
     "shell.execute_reply": "2022-12-05T16:00:22.888495Z"
    },
    "papermill": {
     "duration": 75.881281,
     "end_time": "2022-12-05T16:00:22.892655",
     "exception": false,
     "start_time": "2022-12-05T15:59:07.011374",
     "status": "completed"
    },
    "tags": []
   },
   "outputs": [],
   "source": [
    "from IPython.display import clear_output\n",
    "import os\n",
    "os.environ[\"TF_CPP_MIN_LOG_LEVEL\"] = \"2\"\n",
    "!pip install -q tensorflow==2.4.1\n",
    "clear_output()\n",
    "import numpy as np\n",
    "import pandas as pd\n",
    "import tensorflow as tf \n",
    "from tensorflow import keras\n",
    "import tensorflow_hub as hub"
   ]
  },
  {
   "cell_type": "code",
   "execution_count": 2,
   "id": "d532833c",
   "metadata": {
    "execution": {
     "iopub.execute_input": "2022-12-05T16:00:22.906306Z",
     "iopub.status.busy": "2022-12-05T16:00:22.905816Z",
     "iopub.status.idle": "2022-12-05T16:00:22.943150Z",
     "shell.execute_reply": "2022-12-05T16:00:22.942194Z"
    },
    "papermill": {
     "duration": 0.046479,
     "end_time": "2022-12-05T16:00:22.945244",
     "exception": false,
     "start_time": "2022-12-05T16:00:22.898765",
     "status": "completed"
    },
    "tags": []
   },
   "outputs": [],
   "source": [
    "data_dir=\"../input/paddy-disease-classification/\"\n",
    "train =pd.read_csv(data_dir + \"train.csv\")\n",
    "sub =pd.read_csv(data_dir + \"sample_submission.csv\")"
   ]
  },
  {
   "cell_type": "code",
   "execution_count": 3,
   "id": "3c7bb778",
   "metadata": {
    "execution": {
     "iopub.execute_input": "2022-12-05T16:00:22.958821Z",
     "iopub.status.busy": "2022-12-05T16:00:22.958009Z",
     "iopub.status.idle": "2022-12-05T16:00:22.974278Z",
     "shell.execute_reply": "2022-12-05T16:00:22.973274Z"
    },
    "papermill": {
     "duration": 0.025546,
     "end_time": "2022-12-05T16:00:22.976821",
     "exception": false,
     "start_time": "2022-12-05T16:00:22.951275",
     "status": "completed"
    },
    "tags": []
   },
   "outputs": [
    {
     "data": {
      "text/html": [
       "<div>\n",
       "<style scoped>\n",
       "    .dataframe tbody tr th:only-of-type {\n",
       "        vertical-align: middle;\n",
       "    }\n",
       "\n",
       "    .dataframe tbody tr th {\n",
       "        vertical-align: top;\n",
       "    }\n",
       "\n",
       "    .dataframe thead th {\n",
       "        text-align: right;\n",
       "    }\n",
       "</style>\n",
       "<table border=\"1\" class=\"dataframe\">\n",
       "  <thead>\n",
       "    <tr style=\"text-align: right;\">\n",
       "      <th></th>\n",
       "      <th>image_id</th>\n",
       "      <th>label</th>\n",
       "      <th>variety</th>\n",
       "      <th>age</th>\n",
       "    </tr>\n",
       "  </thead>\n",
       "  <tbody>\n",
       "    <tr>\n",
       "      <th>0</th>\n",
       "      <td>100330.jpg</td>\n",
       "      <td>bacterial_leaf_blight</td>\n",
       "      <td>ADT45</td>\n",
       "      <td>45</td>\n",
       "    </tr>\n",
       "    <tr>\n",
       "      <th>1</th>\n",
       "      <td>100365.jpg</td>\n",
       "      <td>bacterial_leaf_blight</td>\n",
       "      <td>ADT45</td>\n",
       "      <td>45</td>\n",
       "    </tr>\n",
       "    <tr>\n",
       "      <th>2</th>\n",
       "      <td>100382.jpg</td>\n",
       "      <td>bacterial_leaf_blight</td>\n",
       "      <td>ADT45</td>\n",
       "      <td>45</td>\n",
       "    </tr>\n",
       "    <tr>\n",
       "      <th>3</th>\n",
       "      <td>100632.jpg</td>\n",
       "      <td>bacterial_leaf_blight</td>\n",
       "      <td>ADT45</td>\n",
       "      <td>45</td>\n",
       "    </tr>\n",
       "    <tr>\n",
       "      <th>4</th>\n",
       "      <td>101918.jpg</td>\n",
       "      <td>bacterial_leaf_blight</td>\n",
       "      <td>ADT45</td>\n",
       "      <td>45</td>\n",
       "    </tr>\n",
       "  </tbody>\n",
       "</table>\n",
       "</div>"
      ],
      "text/plain": [
       "     image_id                  label variety  age\n",
       "0  100330.jpg  bacterial_leaf_blight   ADT45   45\n",
       "1  100365.jpg  bacterial_leaf_blight   ADT45   45\n",
       "2  100382.jpg  bacterial_leaf_blight   ADT45   45\n",
       "3  100632.jpg  bacterial_leaf_blight   ADT45   45\n",
       "4  101918.jpg  bacterial_leaf_blight   ADT45   45"
      ]
     },
     "execution_count": 3,
     "metadata": {},
     "output_type": "execute_result"
    }
   ],
   "source": [
    "train.head()"
   ]
  },
  {
   "cell_type": "code",
   "execution_count": 4,
   "id": "8d201c9f",
   "metadata": {
    "execution": {
     "iopub.execute_input": "2022-12-05T16:00:22.989373Z",
     "iopub.status.busy": "2022-12-05T16:00:22.989114Z",
     "iopub.status.idle": "2022-12-05T16:00:23.002064Z",
     "shell.execute_reply": "2022-12-05T16:00:23.001025Z"
    },
    "papermill": {
     "duration": 0.02136,
     "end_time": "2022-12-05T16:00:23.004053",
     "exception": false,
     "start_time": "2022-12-05T16:00:22.982693",
     "status": "completed"
    },
    "tags": []
   },
   "outputs": [
    {
     "data": {
      "text/plain": [
       "({'bacterial_leaf_blight': 0,\n",
       "  'bacterial_leaf_streak': 1,\n",
       "  'bacterial_panicle_blight': 2,\n",
       "  'blast': 3,\n",
       "  'brown_spot': 4,\n",
       "  'dead_heart': 5,\n",
       "  'downy_mildew': 6,\n",
       "  'hispa': 7,\n",
       "  'normal': 8,\n",
       "  'tungro': 9},\n",
       " {0: 'bacterial_leaf_blight',\n",
       "  1: 'bacterial_leaf_streak',\n",
       "  2: 'bacterial_panicle_blight',\n",
       "  3: 'blast',\n",
       "  4: 'brown_spot',\n",
       "  5: 'dead_heart',\n",
       "  6: 'downy_mildew',\n",
       "  7: 'hispa',\n",
       "  8: 'normal',\n",
       "  9: 'tungro'})"
      ]
     },
     "execution_count": 4,
     "metadata": {},
     "output_type": "execute_result"
    }
   ],
   "source": [
    "classes = np.unique(train[\"label\"])\n",
    "c2id = {c:i for i,c in enumerate(classes)}\n",
    "id2c = {i:c for i,c in enumerate(classes)}\n",
    "c2id,id2c"
   ]
  },
  {
   "cell_type": "code",
   "execution_count": 5,
   "id": "8a58e653",
   "metadata": {
    "execution": {
     "iopub.execute_input": "2022-12-05T16:00:23.017132Z",
     "iopub.status.busy": "2022-12-05T16:00:23.016517Z",
     "iopub.status.idle": "2022-12-05T16:00:23.035164Z",
     "shell.execute_reply": "2022-12-05T16:00:23.034029Z"
    },
    "papermill": {
     "duration": 0.028183,
     "end_time": "2022-12-05T16:00:23.037957",
     "exception": false,
     "start_time": "2022-12-05T16:00:23.009774",
     "status": "completed"
    },
    "tags": []
   },
   "outputs": [
    {
     "data": {
      "text/html": [
       "<div>\n",
       "<style scoped>\n",
       "    .dataframe tbody tr th:only-of-type {\n",
       "        vertical-align: middle;\n",
       "    }\n",
       "\n",
       "    .dataframe tbody tr th {\n",
       "        vertical-align: top;\n",
       "    }\n",
       "\n",
       "    .dataframe thead th {\n",
       "        text-align: right;\n",
       "    }\n",
       "</style>\n",
       "<table border=\"1\" class=\"dataframe\">\n",
       "  <thead>\n",
       "    <tr style=\"text-align: right;\">\n",
       "      <th></th>\n",
       "      <th>image_id</th>\n",
       "      <th>label</th>\n",
       "      <th>variety</th>\n",
       "      <th>age</th>\n",
       "      <th>label_id</th>\n",
       "    </tr>\n",
       "  </thead>\n",
       "  <tbody>\n",
       "    <tr>\n",
       "      <th>0</th>\n",
       "      <td>100330.jpg</td>\n",
       "      <td>bacterial_leaf_blight</td>\n",
       "      <td>ADT45</td>\n",
       "      <td>45</td>\n",
       "      <td>0</td>\n",
       "    </tr>\n",
       "    <tr>\n",
       "      <th>1</th>\n",
       "      <td>100365.jpg</td>\n",
       "      <td>bacterial_leaf_blight</td>\n",
       "      <td>ADT45</td>\n",
       "      <td>45</td>\n",
       "      <td>0</td>\n",
       "    </tr>\n",
       "    <tr>\n",
       "      <th>2</th>\n",
       "      <td>100382.jpg</td>\n",
       "      <td>bacterial_leaf_blight</td>\n",
       "      <td>ADT45</td>\n",
       "      <td>45</td>\n",
       "      <td>0</td>\n",
       "    </tr>\n",
       "    <tr>\n",
       "      <th>3</th>\n",
       "      <td>100632.jpg</td>\n",
       "      <td>bacterial_leaf_blight</td>\n",
       "      <td>ADT45</td>\n",
       "      <td>45</td>\n",
       "      <td>0</td>\n",
       "    </tr>\n",
       "    <tr>\n",
       "      <th>4</th>\n",
       "      <td>101918.jpg</td>\n",
       "      <td>bacterial_leaf_blight</td>\n",
       "      <td>ADT45</td>\n",
       "      <td>45</td>\n",
       "      <td>0</td>\n",
       "    </tr>\n",
       "    <tr>\n",
       "      <th>...</th>\n",
       "      <td>...</td>\n",
       "      <td>...</td>\n",
       "      <td>...</td>\n",
       "      <td>...</td>\n",
       "      <td>...</td>\n",
       "    </tr>\n",
       "    <tr>\n",
       "      <th>10402</th>\n",
       "      <td>107607.jpg</td>\n",
       "      <td>tungro</td>\n",
       "      <td>Zonal</td>\n",
       "      <td>55</td>\n",
       "      <td>9</td>\n",
       "    </tr>\n",
       "    <tr>\n",
       "      <th>10403</th>\n",
       "      <td>107811.jpg</td>\n",
       "      <td>tungro</td>\n",
       "      <td>Zonal</td>\n",
       "      <td>55</td>\n",
       "      <td>9</td>\n",
       "    </tr>\n",
       "    <tr>\n",
       "      <th>10404</th>\n",
       "      <td>108547.jpg</td>\n",
       "      <td>tungro</td>\n",
       "      <td>Zonal</td>\n",
       "      <td>55</td>\n",
       "      <td>9</td>\n",
       "    </tr>\n",
       "    <tr>\n",
       "      <th>10405</th>\n",
       "      <td>110245.jpg</td>\n",
       "      <td>tungro</td>\n",
       "      <td>Zonal</td>\n",
       "      <td>55</td>\n",
       "      <td>9</td>\n",
       "    </tr>\n",
       "    <tr>\n",
       "      <th>10406</th>\n",
       "      <td>110381.jpg</td>\n",
       "      <td>tungro</td>\n",
       "      <td>Zonal</td>\n",
       "      <td>55</td>\n",
       "      <td>9</td>\n",
       "    </tr>\n",
       "  </tbody>\n",
       "</table>\n",
       "<p>10407 rows × 5 columns</p>\n",
       "</div>"
      ],
      "text/plain": [
       "         image_id                  label variety  age  label_id\n",
       "0      100330.jpg  bacterial_leaf_blight   ADT45   45         0\n",
       "1      100365.jpg  bacterial_leaf_blight   ADT45   45         0\n",
       "2      100382.jpg  bacterial_leaf_blight   ADT45   45         0\n",
       "3      100632.jpg  bacterial_leaf_blight   ADT45   45         0\n",
       "4      101918.jpg  bacterial_leaf_blight   ADT45   45         0\n",
       "...           ...                    ...     ...  ...       ...\n",
       "10402  107607.jpg                 tungro   Zonal   55         9\n",
       "10403  107811.jpg                 tungro   Zonal   55         9\n",
       "10404  108547.jpg                 tungro   Zonal   55         9\n",
       "10405  110245.jpg                 tungro   Zonal   55         9\n",
       "10406  110381.jpg                 tungro   Zonal   55         9\n",
       "\n",
       "[10407 rows x 5 columns]"
      ]
     },
     "execution_count": 5,
     "metadata": {},
     "output_type": "execute_result"
    }
   ],
   "source": [
    "train[\"label_id\"]=train[\"label\"].map(c2id)\n",
    "train"
   ]
  },
  {
   "cell_type": "code",
   "execution_count": 6,
   "id": "c0a95960",
   "metadata": {
    "execution": {
     "iopub.execute_input": "2022-12-05T16:00:23.053377Z",
     "iopub.status.busy": "2022-12-05T16:00:23.052626Z",
     "iopub.status.idle": "2022-12-05T16:00:23.064477Z",
     "shell.execute_reply": "2022-12-05T16:00:23.063516Z"
    },
    "papermill": {
     "duration": 0.020818,
     "end_time": "2022-12-05T16:00:23.066417",
     "exception": false,
     "start_time": "2022-12-05T16:00:23.045599",
     "status": "completed"
    },
    "tags": []
   },
   "outputs": [
    {
     "data": {
      "text/html": [
       "<div>\n",
       "<style scoped>\n",
       "    .dataframe tbody tr th:only-of-type {\n",
       "        vertical-align: middle;\n",
       "    }\n",
       "\n",
       "    .dataframe tbody tr th {\n",
       "        vertical-align: top;\n",
       "    }\n",
       "\n",
       "    .dataframe thead th {\n",
       "        text-align: right;\n",
       "    }\n",
       "</style>\n",
       "<table border=\"1\" class=\"dataframe\">\n",
       "  <thead>\n",
       "    <tr style=\"text-align: right;\">\n",
       "      <th></th>\n",
       "      <th>image_id</th>\n",
       "      <th>label</th>\n",
       "      <th>variety</th>\n",
       "      <th>age</th>\n",
       "      <th>label_id</th>\n",
       "    </tr>\n",
       "  </thead>\n",
       "  <tbody>\n",
       "    <tr>\n",
       "      <th>1025</th>\n",
       "      <td>106686.jpg</td>\n",
       "      <td>bacterial_panicle_blight</td>\n",
       "      <td>ADT45</td>\n",
       "      <td>70</td>\n",
       "      <td>2</td>\n",
       "    </tr>\n",
       "    <tr>\n",
       "      <th>6058</th>\n",
       "      <td>100860.jpg</td>\n",
       "      <td>hispa</td>\n",
       "      <td>ADT45</td>\n",
       "      <td>50</td>\n",
       "      <td>7</td>\n",
       "    </tr>\n",
       "    <tr>\n",
       "      <th>7257</th>\n",
       "      <td>108421.jpg</td>\n",
       "      <td>hispa</td>\n",
       "      <td>AtchayaPonni</td>\n",
       "      <td>65</td>\n",
       "      <td>7</td>\n",
       "    </tr>\n",
       "    <tr>\n",
       "      <th>9281</th>\n",
       "      <td>109444.jpg</td>\n",
       "      <td>normal</td>\n",
       "      <td>Ponni</td>\n",
       "      <td>60</td>\n",
       "      <td>8</td>\n",
       "    </tr>\n",
       "    <tr>\n",
       "      <th>1127</th>\n",
       "      <td>105013.jpg</td>\n",
       "      <td>bacterial_panicle_blight</td>\n",
       "      <td>AndraPonni</td>\n",
       "      <td>65</td>\n",
       "      <td>2</td>\n",
       "    </tr>\n",
       "  </tbody>\n",
       "</table>\n",
       "</div>"
      ],
      "text/plain": [
       "        image_id                     label       variety  age  label_id\n",
       "1025  106686.jpg  bacterial_panicle_blight         ADT45   70         2\n",
       "6058  100860.jpg                     hispa         ADT45   50         7\n",
       "7257  108421.jpg                     hispa  AtchayaPonni   65         7\n",
       "9281  109444.jpg                    normal         Ponni   60         8\n",
       "1127  105013.jpg  bacterial_panicle_blight    AndraPonni   65         2"
      ]
     },
     "execution_count": 6,
     "metadata": {},
     "output_type": "execute_result"
    }
   ],
   "source": [
    "#Shuffle of file train.CSV\n",
    "train = train.sample(frac=1.0)\n",
    "train.head()"
   ]
  },
  {
   "cell_type": "code",
   "execution_count": 7,
   "id": "e6055102",
   "metadata": {
    "execution": {
     "iopub.execute_input": "2022-12-05T16:00:23.080358Z",
     "iopub.status.busy": "2022-12-05T16:00:23.079628Z",
     "iopub.status.idle": "2022-12-05T16:00:23.087328Z",
     "shell.execute_reply": "2022-12-05T16:00:23.086388Z"
    },
    "papermill": {
     "duration": 0.016486,
     "end_time": "2022-12-05T16:00:23.089332",
     "exception": false,
     "start_time": "2022-12-05T16:00:23.072846",
     "status": "completed"
    },
    "tags": []
   },
   "outputs": [
    {
     "data": {
      "text/plain": [
       "1025    106686.jpg\n",
       "6058    100860.jpg\n",
       "7257    108421.jpg\n",
       "9281    109444.jpg\n",
       "1127    105013.jpg\n",
       "           ...    \n",
       "5541    100992.jpg\n",
       "6902    106183.jpg\n",
       "9832    108149.jpg\n",
       "9250    108362.jpg\n",
       "8189    106025.jpg\n",
       "Name: image_id, Length: 10407, dtype: object"
      ]
     },
     "execution_count": 7,
     "metadata": {},
     "output_type": "execute_result"
    }
   ],
   "source": [
    "train[\"image_id\"]"
   ]
  },
  {
   "cell_type": "code",
   "execution_count": 8,
   "id": "0d4cc4c3",
   "metadata": {
    "execution": {
     "iopub.execute_input": "2022-12-05T16:00:23.103792Z",
     "iopub.status.busy": "2022-12-05T16:00:23.103030Z",
     "iopub.status.idle": "2022-12-05T16:00:23.114705Z",
     "shell.execute_reply": "2022-12-05T16:00:23.113760Z"
    },
    "papermill": {
     "duration": 0.020636,
     "end_time": "2022-12-05T16:00:23.116620",
     "exception": false,
     "start_time": "2022-12-05T16:00:23.095984",
     "status": "completed"
    },
    "tags": []
   },
   "outputs": [
    {
     "data": {
      "text/plain": [
       "(1025    train_images/bacterial_panicle_blight/106686.jpg\n",
       " 6058                       train_images/hispa/100860.jpg\n",
       " 7257                       train_images/hispa/108421.jpg\n",
       " 9281                      train_images/normal/109444.jpg\n",
       " 1127    train_images/bacterial_panicle_blight/105013.jpg\n",
       "                               ...                       \n",
       " 5541                train_images/downy_mildew/100992.jpg\n",
       " 6902                       train_images/hispa/106183.jpg\n",
       " 9832                      train_images/tungro/108149.jpg\n",
       " 9250                      train_images/normal/108362.jpg\n",
       " 8189                      train_images/normal/106025.jpg\n",
       " Name: label, Length: 10407, dtype: object,\n",
       " array([2, 7, 7, ..., 9, 8, 8]))"
      ]
     },
     "execution_count": 8,
     "metadata": {},
     "output_type": "execute_result"
    }
   ],
   "source": [
    "#This is how we access to the working space (Input).\n",
    "chemins = \"train_images/\"+train[\"label\"]+\"/\"+train[\"image_id\"].values\n",
    "labels = train[\"label_id\"].values\n",
    "chemins,labels"
   ]
  },
  {
   "cell_type": "code",
   "execution_count": 9,
   "id": "df7fb992",
   "metadata": {
    "execution": {
     "iopub.execute_input": "2022-12-05T16:00:23.130987Z",
     "iopub.status.busy": "2022-12-05T16:00:23.130201Z",
     "iopub.status.idle": "2022-12-05T16:00:23.970858Z",
     "shell.execute_reply": "2022-12-05T16:00:23.969754Z"
    },
    "papermill": {
     "duration": 0.849984,
     "end_time": "2022-12-05T16:00:23.973178",
     "exception": false,
     "start_time": "2022-12-05T16:00:23.123194",
     "status": "completed"
    },
    "tags": []
   },
   "outputs": [
    {
     "data": {
      "text/plain": [
       "<TensorSliceDataset shapes: ((), ()), types: (tf.string, tf.int64)>"
      ]
     },
     "execution_count": 9,
     "metadata": {},
     "output_type": "execute_result"
    }
   ],
   "source": [
    "train_ds = tf.data.Dataset.from_tensor_slices((chemins,labels))\n",
    "train_ds"
   ]
  },
  {
   "cell_type": "code",
   "execution_count": 10,
   "id": "7eebf4c1",
   "metadata": {
    "execution": {
     "iopub.execute_input": "2022-12-05T16:00:23.989070Z",
     "iopub.status.busy": "2022-12-05T16:00:23.988210Z",
     "iopub.status.idle": "2022-12-05T16:00:23.993581Z",
     "shell.execute_reply": "2022-12-05T16:00:23.992730Z"
    },
    "papermill": {
     "duration": 0.015499,
     "end_time": "2022-12-05T16:00:23.995486",
     "exception": false,
     "start_time": "2022-12-05T16:00:23.979987",
     "status": "completed"
    },
    "tags": []
   },
   "outputs": [],
   "source": [
    "#extract et decode l'image @JPEG \n",
    "def extract_image(chemin,label):\n",
    "    fichier = tf.io.read_file(data_dir +chemin)\n",
    "    image=tf.image.decode_jpeg(fichier,channels=3)\n",
    "    return image,label"
   ]
  },
  {
   "cell_type": "code",
   "execution_count": 11,
   "id": "ace26275",
   "metadata": {
    "execution": {
     "iopub.execute_input": "2022-12-05T16:00:24.010101Z",
     "iopub.status.busy": "2022-12-05T16:00:24.009238Z",
     "iopub.status.idle": "2022-12-05T16:00:24.070318Z",
     "shell.execute_reply": "2022-12-05T16:00:24.069303Z"
    },
    "papermill": {
     "duration": 0.070855,
     "end_time": "2022-12-05T16:00:24.072743",
     "exception": false,
     "start_time": "2022-12-05T16:00:24.001888",
     "status": "completed"
    },
    "tags": []
   },
   "outputs": [
    {
     "data": {
      "text/plain": [
       "<MapDataset shapes: ((None, None, 3), ()), types: (tf.uint8, tf.int64)>"
      ]
     },
     "execution_count": 11,
     "metadata": {},
     "output_type": "execute_result"
    }
   ],
   "source": [
    "train_ds =train_ds.map(extract_image)\n",
    "train_ds"
   ]
  },
  {
   "cell_type": "code",
   "execution_count": 12,
   "id": "0dc4ede2",
   "metadata": {
    "execution": {
     "iopub.execute_input": "2022-12-05T16:00:24.087728Z",
     "iopub.status.busy": "2022-12-05T16:00:24.086846Z",
     "iopub.status.idle": "2022-12-05T16:00:24.092188Z",
     "shell.execute_reply": "2022-12-05T16:00:24.091095Z"
    },
    "papermill": {
     "duration": 0.015092,
     "end_time": "2022-12-05T16:00:24.094387",
     "exception": false,
     "start_time": "2022-12-05T16:00:24.079295",
     "status": "completed"
    },
    "tags": []
   },
   "outputs": [],
   "source": [
    "#normalisation de tf.unit8 a tf.float32\n",
    "def normalisation(image,label):\n",
    "    image = tf.cast(image,dtype=tf.float32)/255.0\n",
    "    return image,label"
   ]
  },
  {
   "cell_type": "code",
   "execution_count": 13,
   "id": "accb14cd",
   "metadata": {
    "execution": {
     "iopub.execute_input": "2022-12-05T16:00:24.109884Z",
     "iopub.status.busy": "2022-12-05T16:00:24.109628Z",
     "iopub.status.idle": "2022-12-05T16:00:24.152399Z",
     "shell.execute_reply": "2022-12-05T16:00:24.151189Z"
    },
    "papermill": {
     "duration": 0.053508,
     "end_time": "2022-12-05T16:00:24.154945",
     "exception": false,
     "start_time": "2022-12-05T16:00:24.101437",
     "status": "completed"
    },
    "tags": []
   },
   "outputs": [
    {
     "data": {
      "text/plain": [
       "<MapDataset shapes: ((None, None, 3), ()), types: (tf.float32, tf.int64)>"
      ]
     },
     "execution_count": 13,
     "metadata": {},
     "output_type": "execute_result"
    }
   ],
   "source": [
    "train_ds =train_ds.map(normalisation)\n",
    "train_ds"
   ]
  },
  {
   "cell_type": "code",
   "execution_count": 14,
   "id": "f52eef2a",
   "metadata": {
    "execution": {
     "iopub.execute_input": "2022-12-05T16:00:24.170086Z",
     "iopub.status.busy": "2022-12-05T16:00:24.169791Z",
     "iopub.status.idle": "2022-12-05T16:00:24.175655Z",
     "shell.execute_reply": "2022-12-05T16:00:24.174706Z"
    },
    "papermill": {
     "duration": 0.015658,
     "end_time": "2022-12-05T16:00:24.177654",
     "exception": false,
     "start_time": "2022-12-05T16:00:24.161996",
     "status": "completed"
    },
    "tags": []
   },
   "outputs": [],
   "source": [
    "def augment(image,label):\n",
    "    image = tf.image.resize(image,size=(448,448))\n",
    "    image = tf.image.random_crop(image,size=(224,224,3))\n",
    "    image = tf.image.random_brightness(image,2.0)\n",
    "    image = tf.image.random_flip_left_right(image)\n",
    "    image = tf.image.rot90(image,2)\n",
    "    return image,label"
   ]
  },
  {
   "cell_type": "code",
   "execution_count": 15,
   "id": "b486daa4",
   "metadata": {
    "execution": {
     "iopub.execute_input": "2022-12-05T16:00:24.193832Z",
     "iopub.status.busy": "2022-12-05T16:00:24.192399Z",
     "iopub.status.idle": "2022-12-05T16:00:24.326717Z",
     "shell.execute_reply": "2022-12-05T16:00:24.325836Z"
    },
    "papermill": {
     "duration": 0.144187,
     "end_time": "2022-12-05T16:00:24.328822",
     "exception": false,
     "start_time": "2022-12-05T16:00:24.184635",
     "status": "completed"
    },
    "tags": []
   },
   "outputs": [
    {
     "data": {
      "text/plain": [
       "<MapDataset shapes: ((224, 224, 3), ()), types: (tf.float32, tf.int64)>"
      ]
     },
     "execution_count": 15,
     "metadata": {},
     "output_type": "execute_result"
    }
   ],
   "source": [
    "train_ds =train_ds.map(augment)\n",
    "train_ds"
   ]
  },
  {
   "cell_type": "code",
   "execution_count": 16,
   "id": "a15b7c8f",
   "metadata": {
    "execution": {
     "iopub.execute_input": "2022-12-05T16:00:24.345947Z",
     "iopub.status.busy": "2022-12-05T16:00:24.344315Z",
     "iopub.status.idle": "2022-12-05T16:00:24.353450Z",
     "shell.execute_reply": "2022-12-05T16:00:24.352599Z"
    },
    "papermill": {
     "duration": 0.019307,
     "end_time": "2022-12-05T16:00:24.355348",
     "exception": false,
     "start_time": "2022-12-05T16:00:24.336041",
     "status": "completed"
    },
    "tags": []
   },
   "outputs": [
    {
     "data": {
      "text/plain": [
       "<BatchDataset shapes: ((None, 224, 224, 3), (None,)), types: (tf.float32, tf.int64)>"
      ]
     },
     "execution_count": 16,
     "metadata": {},
     "output_type": "execute_result"
    }
   ],
   "source": [
    "train_ds =train_ds.batch(32)\n",
    "train_ds"
   ]
  },
  {
   "cell_type": "code",
   "execution_count": 17,
   "id": "4e32a2ea",
   "metadata": {
    "execution": {
     "iopub.execute_input": "2022-12-05T16:00:24.371527Z",
     "iopub.status.busy": "2022-12-05T16:00:24.370100Z",
     "iopub.status.idle": "2022-12-05T16:00:33.509217Z",
     "shell.execute_reply": "2022-12-05T16:00:33.508214Z"
    },
    "papermill": {
     "duration": 9.1493,
     "end_time": "2022-12-05T16:00:33.511590",
     "exception": false,
     "start_time": "2022-12-05T16:00:24.362290",
     "status": "completed"
    },
    "tags": []
   },
   "outputs": [],
   "source": [
    "model=keras.Sequential()\n",
    "model.add(hub.KerasLayer(\"https://tfhub.dev/tensorflow/resnet_50/feature_vector/1\", trainable=True))\n",
    "model.add(keras.layers.Dense(10,activation=\"softmax\"))"
   ]
  },
  {
   "cell_type": "code",
   "execution_count": 18,
   "id": "1b37881c",
   "metadata": {
    "execution": {
     "iopub.execute_input": "2022-12-05T16:00:33.528812Z",
     "iopub.status.busy": "2022-12-05T16:00:33.527321Z",
     "iopub.status.idle": "2022-12-05T16:00:33.532918Z",
     "shell.execute_reply": "2022-12-05T16:00:33.531929Z"
    },
    "papermill": {
     "duration": 0.016016,
     "end_time": "2022-12-05T16:00:33.535048",
     "exception": false,
     "start_time": "2022-12-05T16:00:33.519032",
     "status": "completed"
    },
    "tags": []
   },
   "outputs": [],
   "source": [
    "opt = tf.keras.optimizers.RMSprop(learning_rate=1e-4)#0.0001"
   ]
  },
  {
   "cell_type": "code",
   "execution_count": 19,
   "id": "3c551961",
   "metadata": {
    "execution": {
     "iopub.execute_input": "2022-12-05T16:00:33.550247Z",
     "iopub.status.busy": "2022-12-05T16:00:33.549625Z",
     "iopub.status.idle": "2022-12-05T16:00:33.563705Z",
     "shell.execute_reply": "2022-12-05T16:00:33.562770Z"
    },
    "papermill": {
     "duration": 0.024174,
     "end_time": "2022-12-05T16:00:33.565912",
     "exception": false,
     "start_time": "2022-12-05T16:00:33.541738",
     "status": "completed"
    },
    "tags": []
   },
   "outputs": [],
   "source": [
    "model.compile(optimizer=opt,loss=\"sparse_categorical_crossentropy\",metrics=[\"accuracy\"])"
   ]
  },
  {
   "cell_type": "code",
   "execution_count": 20,
   "id": "ae3ec028",
   "metadata": {
    "execution": {
     "iopub.execute_input": "2022-12-05T16:00:33.581327Z",
     "iopub.status.busy": "2022-12-05T16:00:33.581072Z",
     "iopub.status.idle": "2022-12-05T16:17:03.179444Z",
     "shell.execute_reply": "2022-12-05T16:17:03.178221Z"
    },
    "papermill": {
     "duration": 989.608631,
     "end_time": "2022-12-05T16:17:03.181815",
     "exception": false,
     "start_time": "2022-12-05T16:00:33.573184",
     "status": "completed"
    },
    "tags": []
   },
   "outputs": [
    {
     "name": "stdout",
     "output_type": "stream",
     "text": [
      "Epoch 1/12\n",
      "326/326 [==============================] - 158s 420ms/step - loss: 1.7002 - accuracy: 0.5371\n",
      "Epoch 2/12\n",
      "326/326 [==============================] - 75s 230ms/step - loss: 1.0019 - accuracy: 0.7843\n",
      "Epoch 3/12\n",
      "326/326 [==============================] - 76s 234ms/step - loss: 0.8436 - accuracy: 0.8403\n",
      "Epoch 4/12\n",
      "326/326 [==============================] - 76s 232ms/step - loss: 0.7759 - accuracy: 0.8632\n",
      "Epoch 5/12\n",
      "326/326 [==============================] - 76s 233ms/step - loss: 0.7173 - accuracy: 0.8840\n",
      "Epoch 6/12\n",
      "326/326 [==============================] - 76s 231ms/step - loss: 0.6721 - accuracy: 0.9005\n",
      "Epoch 7/12\n",
      "326/326 [==============================] - 76s 232ms/step - loss: 0.6356 - accuracy: 0.9135\n",
      "Epoch 8/12\n",
      "326/326 [==============================] - 75s 231ms/step - loss: 0.6332 - accuracy: 0.9145\n",
      "Epoch 9/12\n",
      "326/326 [==============================] - 75s 231ms/step - loss: 0.6131 - accuracy: 0.9182\n",
      "Epoch 10/12\n",
      "326/326 [==============================] - 75s 230ms/step - loss: 0.5759 - accuracy: 0.9302\n",
      "Epoch 11/12\n",
      "326/326 [==============================] - 75s 230ms/step - loss: 0.5746 - accuracy: 0.9331\n",
      "Epoch 12/12\n",
      "326/326 [==============================] - 76s 231ms/step - loss: 0.5753 - accuracy: 0.9347\n"
     ]
    }
   ],
   "source": [
    "res = model.fit(train_ds,epochs=12)"
   ]
  },
  {
   "cell_type": "code",
   "execution_count": 21,
   "id": "6e8918d2",
   "metadata": {
    "execution": {
     "iopub.execute_input": "2022-12-05T16:17:03.659687Z",
     "iopub.status.busy": "2022-12-05T16:17:03.659084Z",
     "iopub.status.idle": "2022-12-05T16:17:03.677686Z",
     "shell.execute_reply": "2022-12-05T16:17:03.676843Z"
    },
    "papermill": {
     "duration": 0.288814,
     "end_time": "2022-12-05T16:17:03.680261",
     "exception": false,
     "start_time": "2022-12-05T16:17:03.391447",
     "status": "completed"
    },
    "tags": []
   },
   "outputs": [
    {
     "data": {
      "text/plain": [
       "(array(['test_images/200001.jpg', 'test_images/200002.jpg',\n",
       "        'test_images/200003.jpg', ..., 'test_images/203467.jpg',\n",
       "        'test_images/203468.jpg', 'test_images/203469.jpg'], dtype=object),\n",
       " array([-1, -1, -1, ..., -1, -1, -1]))"
      ]
     },
     "execution_count": 21,
     "metadata": {},
     "output_type": "execute_result"
    }
   ],
   "source": [
    "test_chemins = \"test_images/\"+sub[\"image_id\"].values\n",
    "test_labels = np.full(len(test_chemins),fill_value=-1)\n",
    "test_chemins,test_labels"
   ]
  },
  {
   "cell_type": "code",
   "execution_count": 22,
   "id": "0ad72043",
   "metadata": {
    "execution": {
     "iopub.execute_input": "2022-12-05T16:17:04.317396Z",
     "iopub.status.busy": "2022-12-05T16:17:04.317047Z",
     "iopub.status.idle": "2022-12-05T16:17:04.324588Z",
     "shell.execute_reply": "2022-12-05T16:17:04.323701Z"
    },
    "papermill": {
     "duration": 0.32265,
     "end_time": "2022-12-05T16:17:04.326864",
     "exception": false,
     "start_time": "2022-12-05T16:17:04.004214",
     "status": "completed"
    },
    "tags": []
   },
   "outputs": [
    {
     "data": {
      "text/plain": [
       "<TensorSliceDataset shapes: ((), ()), types: (tf.string, tf.int64)>"
      ]
     },
     "execution_count": 22,
     "metadata": {},
     "output_type": "execute_result"
    }
   ],
   "source": [
    "test_ds =tf.data.Dataset.from_tensor_slices((test_chemins,test_labels))\n",
    "test_ds"
   ]
  },
  {
   "cell_type": "code",
   "execution_count": 23,
   "id": "825d9e2f",
   "metadata": {
    "execution": {
     "iopub.execute_input": "2022-12-05T16:17:04.787840Z",
     "iopub.status.busy": "2022-12-05T16:17:04.786835Z",
     "iopub.status.idle": "2022-12-05T16:17:04.879285Z",
     "shell.execute_reply": "2022-12-05T16:17:04.878266Z"
    },
    "papermill": {
     "duration": 0.348404,
     "end_time": "2022-12-05T16:17:04.881560",
     "exception": false,
     "start_time": "2022-12-05T16:17:04.533156",
     "status": "completed"
    },
    "tags": []
   },
   "outputs": [
    {
     "data": {
      "text/plain": [
       "<BatchDataset shapes: ((None, 224, 224, 3), (None,)), types: (tf.float32, tf.int64)>"
      ]
     },
     "execution_count": 23,
     "metadata": {},
     "output_type": "execute_result"
    }
   ],
   "source": [
    "test_ds = test_ds.map(extract_image).map(normalisation).map(augment).batch(32)\n",
    "test_ds"
   ]
  },
  {
   "cell_type": "code",
   "execution_count": 24,
   "id": "c8aa03f0",
   "metadata": {
    "execution": {
     "iopub.execute_input": "2022-12-05T16:17:05.295217Z",
     "iopub.status.busy": "2022-12-05T16:17:05.294150Z",
     "iopub.status.idle": "2022-12-05T16:17:48.928953Z",
     "shell.execute_reply": "2022-12-05T16:17:48.927940Z"
    },
    "papermill": {
     "duration": 43.844789,
     "end_time": "2022-12-05T16:17:48.931891",
     "exception": false,
     "start_time": "2022-12-05T16:17:05.087102",
     "status": "completed"
    },
    "tags": []
   },
   "outputs": [],
   "source": [
    "predictions = model.predict(test_ds)"
   ]
  },
  {
   "cell_type": "code",
   "execution_count": 25,
   "id": "d2edbb6b",
   "metadata": {
    "execution": {
     "iopub.execute_input": "2022-12-05T16:17:49.352663Z",
     "iopub.status.busy": "2022-12-05T16:17:49.351786Z",
     "iopub.status.idle": "2022-12-05T16:17:49.360832Z",
     "shell.execute_reply": "2022-12-05T16:17:49.359640Z"
    },
    "papermill": {
     "duration": 0.22072,
     "end_time": "2022-12-05T16:17:49.363117",
     "exception": false,
     "start_time": "2022-12-05T16:17:49.142397",
     "status": "completed"
    },
    "tags": []
   },
   "outputs": [
    {
     "data": {
      "text/plain": [
       "array([[1.9970562e-03, 6.3156191e-10, 1.6376154e-06, ..., 9.9714500e-01,\n",
       "        4.8401677e-07, 8.0191984e-04],\n",
       "       [6.3502375e-04, 9.5490459e-04, 2.2888908e-06, ..., 1.9388531e-03,\n",
       "        9.8049712e-01, 2.1490213e-03],\n",
       "       [5.0723986e-07, 1.0619996e-06, 2.5885738e-09, ..., 5.0546954e-05,\n",
       "        1.1751241e-06, 7.1034253e-07],\n",
       "       ...,\n",
       "       [9.1129377e-06, 1.0660283e-07, 1.9161856e-08, ..., 2.8718552e-05,\n",
       "        9.9972683e-01, 2.8080723e-05],\n",
       "       [1.5133137e-05, 9.9982882e-01, 6.9392919e-10, ..., 1.4796718e-04,\n",
       "        1.1952216e-08, 1.5333637e-06],\n",
       "       [3.1495849e-14, 3.1274710e-22, 8.7813984e-12, ..., 5.3204894e-09,\n",
       "        2.4353306e-09, 2.5403871e-10]], dtype=float32)"
      ]
     },
     "execution_count": 25,
     "metadata": {},
     "output_type": "execute_result"
    }
   ],
   "source": [
    "predictions"
   ]
  },
  {
   "cell_type": "code",
   "execution_count": 26,
   "id": "8137ada3",
   "metadata": {
    "execution": {
     "iopub.execute_input": "2022-12-05T16:17:49.776181Z",
     "iopub.status.busy": "2022-12-05T16:17:49.775150Z",
     "iopub.status.idle": "2022-12-05T16:17:49.792634Z",
     "shell.execute_reply": "2022-12-05T16:17:49.791641Z"
    },
    "papermill": {
     "duration": 0.225551,
     "end_time": "2022-12-05T16:17:49.794630",
     "exception": false,
     "start_time": "2022-12-05T16:17:49.569079",
     "status": "completed"
    },
    "tags": []
   },
   "outputs": [
    {
     "data": {
      "text/html": [
       "<div>\n",
       "<style scoped>\n",
       "    .dataframe tbody tr th:only-of-type {\n",
       "        vertical-align: middle;\n",
       "    }\n",
       "\n",
       "    .dataframe tbody tr th {\n",
       "        vertical-align: top;\n",
       "    }\n",
       "\n",
       "    .dataframe thead th {\n",
       "        text-align: right;\n",
       "    }\n",
       "</style>\n",
       "<table border=\"1\" class=\"dataframe\">\n",
       "  <thead>\n",
       "    <tr style=\"text-align: right;\">\n",
       "      <th></th>\n",
       "      <th>image_id</th>\n",
       "      <th>label</th>\n",
       "      <th>label_id</th>\n",
       "    </tr>\n",
       "  </thead>\n",
       "  <tbody>\n",
       "    <tr>\n",
       "      <th>0</th>\n",
       "      <td>200001.jpg</td>\n",
       "      <td>hispa</td>\n",
       "      <td>7</td>\n",
       "    </tr>\n",
       "    <tr>\n",
       "      <th>1</th>\n",
       "      <td>200002.jpg</td>\n",
       "      <td>normal</td>\n",
       "      <td>8</td>\n",
       "    </tr>\n",
       "    <tr>\n",
       "      <th>2</th>\n",
       "      <td>200003.jpg</td>\n",
       "      <td>blast</td>\n",
       "      <td>3</td>\n",
       "    </tr>\n",
       "    <tr>\n",
       "      <th>3</th>\n",
       "      <td>200004.jpg</td>\n",
       "      <td>blast</td>\n",
       "      <td>3</td>\n",
       "    </tr>\n",
       "    <tr>\n",
       "      <th>4</th>\n",
       "      <td>200005.jpg</td>\n",
       "      <td>blast</td>\n",
       "      <td>3</td>\n",
       "    </tr>\n",
       "    <tr>\n",
       "      <th>...</th>\n",
       "      <td>...</td>\n",
       "      <td>...</td>\n",
       "      <td>...</td>\n",
       "    </tr>\n",
       "    <tr>\n",
       "      <th>3464</th>\n",
       "      <td>203465.jpg</td>\n",
       "      <td>hispa</td>\n",
       "      <td>7</td>\n",
       "    </tr>\n",
       "    <tr>\n",
       "      <th>3465</th>\n",
       "      <td>203466.jpg</td>\n",
       "      <td>hispa</td>\n",
       "      <td>7</td>\n",
       "    </tr>\n",
       "    <tr>\n",
       "      <th>3466</th>\n",
       "      <td>203467.jpg</td>\n",
       "      <td>normal</td>\n",
       "      <td>8</td>\n",
       "    </tr>\n",
       "    <tr>\n",
       "      <th>3467</th>\n",
       "      <td>203468.jpg</td>\n",
       "      <td>bacterial_leaf_streak</td>\n",
       "      <td>1</td>\n",
       "    </tr>\n",
       "    <tr>\n",
       "      <th>3468</th>\n",
       "      <td>203469.jpg</td>\n",
       "      <td>dead_heart</td>\n",
       "      <td>5</td>\n",
       "    </tr>\n",
       "  </tbody>\n",
       "</table>\n",
       "<p>3469 rows × 3 columns</p>\n",
       "</div>"
      ],
      "text/plain": [
       "        image_id                  label  label_id\n",
       "0     200001.jpg                  hispa         7\n",
       "1     200002.jpg                 normal         8\n",
       "2     200003.jpg                  blast         3\n",
       "3     200004.jpg                  blast         3\n",
       "4     200005.jpg                  blast         3\n",
       "...          ...                    ...       ...\n",
       "3464  203465.jpg                  hispa         7\n",
       "3465  203466.jpg                  hispa         7\n",
       "3466  203467.jpg                 normal         8\n",
       "3467  203468.jpg  bacterial_leaf_streak         1\n",
       "3468  203469.jpg             dead_heart         5\n",
       "\n",
       "[3469 rows x 3 columns]"
      ]
     },
     "execution_count": 26,
     "metadata": {},
     "output_type": "execute_result"
    }
   ],
   "source": [
    "sub[\"label_id\"]=predictions.argmax(axis=1)\n",
    "sub[\"label\"]=sub[\"label_id\"].map(id2c)\n",
    "sub"
   ]
  },
  {
   "cell_type": "code",
   "execution_count": 27,
   "id": "6d45a02b",
   "metadata": {
    "execution": {
     "iopub.execute_input": "2022-12-05T16:17:50.208566Z",
     "iopub.status.busy": "2022-12-05T16:17:50.208144Z",
     "iopub.status.idle": "2022-12-05T16:17:50.225853Z",
     "shell.execute_reply": "2022-12-05T16:17:50.224940Z"
    },
    "papermill": {
     "duration": 0.228463,
     "end_time": "2022-12-05T16:17:50.228495",
     "exception": false,
     "start_time": "2022-12-05T16:17:50.000032",
     "status": "completed"
    },
    "tags": []
   },
   "outputs": [
    {
     "data": {
      "text/html": [
       "<div>\n",
       "<style scoped>\n",
       "    .dataframe tbody tr th:only-of-type {\n",
       "        vertical-align: middle;\n",
       "    }\n",
       "\n",
       "    .dataframe tbody tr th {\n",
       "        vertical-align: top;\n",
       "    }\n",
       "\n",
       "    .dataframe thead th {\n",
       "        text-align: right;\n",
       "    }\n",
       "</style>\n",
       "<table border=\"1\" class=\"dataframe\">\n",
       "  <thead>\n",
       "    <tr style=\"text-align: right;\">\n",
       "      <th></th>\n",
       "      <th>image_id</th>\n",
       "      <th>label</th>\n",
       "    </tr>\n",
       "  </thead>\n",
       "  <tbody>\n",
       "    <tr>\n",
       "      <th>0</th>\n",
       "      <td>200001.jpg</td>\n",
       "      <td>hispa</td>\n",
       "    </tr>\n",
       "    <tr>\n",
       "      <th>1</th>\n",
       "      <td>200002.jpg</td>\n",
       "      <td>normal</td>\n",
       "    </tr>\n",
       "    <tr>\n",
       "      <th>2</th>\n",
       "      <td>200003.jpg</td>\n",
       "      <td>blast</td>\n",
       "    </tr>\n",
       "    <tr>\n",
       "      <th>3</th>\n",
       "      <td>200004.jpg</td>\n",
       "      <td>blast</td>\n",
       "    </tr>\n",
       "    <tr>\n",
       "      <th>4</th>\n",
       "      <td>200005.jpg</td>\n",
       "      <td>blast</td>\n",
       "    </tr>\n",
       "    <tr>\n",
       "      <th>...</th>\n",
       "      <td>...</td>\n",
       "      <td>...</td>\n",
       "    </tr>\n",
       "    <tr>\n",
       "      <th>3464</th>\n",
       "      <td>203465.jpg</td>\n",
       "      <td>hispa</td>\n",
       "    </tr>\n",
       "    <tr>\n",
       "      <th>3465</th>\n",
       "      <td>203466.jpg</td>\n",
       "      <td>hispa</td>\n",
       "    </tr>\n",
       "    <tr>\n",
       "      <th>3466</th>\n",
       "      <td>203467.jpg</td>\n",
       "      <td>normal</td>\n",
       "    </tr>\n",
       "    <tr>\n",
       "      <th>3467</th>\n",
       "      <td>203468.jpg</td>\n",
       "      <td>bacterial_leaf_streak</td>\n",
       "    </tr>\n",
       "    <tr>\n",
       "      <th>3468</th>\n",
       "      <td>203469.jpg</td>\n",
       "      <td>dead_heart</td>\n",
       "    </tr>\n",
       "  </tbody>\n",
       "</table>\n",
       "<p>3469 rows × 2 columns</p>\n",
       "</div>"
      ],
      "text/plain": [
       "        image_id                  label\n",
       "0     200001.jpg                  hispa\n",
       "1     200002.jpg                 normal\n",
       "2     200003.jpg                  blast\n",
       "3     200004.jpg                  blast\n",
       "4     200005.jpg                  blast\n",
       "...          ...                    ...\n",
       "3464  203465.jpg                  hispa\n",
       "3465  203466.jpg                  hispa\n",
       "3466  203467.jpg                 normal\n",
       "3467  203468.jpg  bacterial_leaf_streak\n",
       "3468  203469.jpg             dead_heart\n",
       "\n",
       "[3469 rows x 2 columns]"
      ]
     },
     "execution_count": 27,
     "metadata": {},
     "output_type": "execute_result"
    }
   ],
   "source": [
    "test_sub=sub[[\"image_id\",\"label\"]]\n",
    "test_sub"
   ]
  },
  {
   "cell_type": "code",
   "execution_count": 28,
   "id": "ef8fc1e0",
   "metadata": {
    "execution": {
     "iopub.execute_input": "2022-12-05T16:17:50.915469Z",
     "iopub.status.busy": "2022-12-05T16:17:50.915111Z",
     "iopub.status.idle": "2022-12-05T16:17:50.927461Z",
     "shell.execute_reply": "2022-12-05T16:17:50.926612Z"
    },
    "papermill": {
     "duration": 0.274786,
     "end_time": "2022-12-05T16:17:50.929528",
     "exception": false,
     "start_time": "2022-12-05T16:17:50.654742",
     "status": "completed"
    },
    "tags": []
   },
   "outputs": [],
   "source": [
    "test_sub.to_csv(\"subdsi37.csv\",index=False)"
   ]
  }
 ],
 "metadata": {
  "kernelspec": {
   "display_name": "Python 3",
   "language": "python",
   "name": "python3"
  },
  "language_info": {
   "codemirror_mode": {
    "name": "ipython",
    "version": 3
   },
   "file_extension": ".py",
   "mimetype": "text/x-python",
   "name": "python",
   "nbconvert_exporter": "python",
   "pygments_lexer": "ipython3",
   "version": "3.7.12"
  },
  "papermill": {
   "default_parameters": {},
   "duration": 1135.928984,
   "end_time": "2022-12-05T16:17:54.869503",
   "environment_variables": {},
   "exception": null,
   "input_path": "__notebook__.ipynb",
   "output_path": "__notebook__.ipynb",
   "parameters": {},
   "start_time": "2022-12-05T15:58:58.940519",
   "version": "2.3.4"
  }
 },
 "nbformat": 4,
 "nbformat_minor": 5
}
